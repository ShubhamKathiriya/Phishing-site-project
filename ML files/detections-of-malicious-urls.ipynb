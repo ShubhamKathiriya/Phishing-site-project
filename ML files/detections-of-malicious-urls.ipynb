{
 "cells": [
  {
   "cell_type": "code",
   "execution_count": 1,
   "id": "57a07b05",
   "metadata": {
    "execution": {
     "iopub.execute_input": "2022-11-18T08:06:16.496816Z",
     "iopub.status.busy": "2022-11-18T08:06:16.495556Z",
     "iopub.status.idle": "2022-11-18T08:06:28.426817Z",
     "shell.execute_reply": "2022-11-18T08:06:28.425541Z"
    },
    "papermill": {
     "duration": 11.95494,
     "end_time": "2022-11-18T08:06:28.429763",
     "exception": false,
     "start_time": "2022-11-18T08:06:16.474823",
     "status": "completed"
    },
    "tags": []
   },
   "outputs": [
    {
     "name": "stdout",
     "output_type": "stream",
     "text": [
      "Collecting tld\r\n",
      "  Downloading tld-0.12.6-py37-none-any.whl (412 kB)\r\n",
      "\u001b[2K     \u001b[90m━━━━━━━━━━━━━━━━━━━━━━━━━━━━━━━━━━━━━━━\u001b[0m \u001b[32m412.2/412.2 kB\u001b[0m \u001b[31m7.5 MB/s\u001b[0m eta \u001b[36m0:00:00\u001b[0m\r\n",
      "\u001b[?25hInstalling collected packages: tld\r\n",
      "Successfully installed tld-0.12.6\r\n",
      "\u001b[33mWARNING: Running pip as the 'root' user can result in broken permissions and conflicting behaviour with the system package manager. It is recommended to use a virtual environment instead: https://pip.pypa.io/warnings/venv\u001b[0m\u001b[33m\r\n",
      "\u001b[0m"
     ]
    }
   ],
   "source": [
    "!pip install tld"
   ]
  },
  {
   "cell_type": "code",
   "execution_count": 2,
   "id": "c571a247",
   "metadata": {
    "_cell_guid": "b1076dfc-b9ad-4769-8c92-a6c4dae69d19",
    "_uuid": "8f2839f25d086af736a60e9eeb907d3b93b6e0e5",
    "execution": {
     "iopub.execute_input": "2022-11-18T08:06:28.471130Z",
     "iopub.status.busy": "2022-11-18T08:06:28.469865Z",
     "iopub.status.idle": "2022-11-18T08:06:32.293336Z",
     "shell.execute_reply": "2022-11-18T08:06:32.292231Z"
    },
    "papermill": {
     "duration": 3.84659,
     "end_time": "2022-11-18T08:06:32.296520",
     "exception": false,
     "start_time": "2022-11-18T08:06:28.449930",
     "status": "completed"
    },
    "tags": []
   },
   "outputs": [],
   "source": [
    "#Libraries\n",
    "\n",
    "import numpy as np \n",
    "import pandas as pd \n",
    "import re\n",
    "import matplotlib.pyplot as plt\n",
    "import seaborn as sns\n",
    "from urllib.parse import urlparse\n",
    "from tld import get_tld\n",
    "import os.path\n",
    "import time\n",
    "import plotly.express as px\n",
    "import pickle\n",
    "\n",
    "from sklearn.ensemble import RandomForestClassifier\n",
    "from sklearn.model_selection import train_test_split\n",
    "from sklearn.metrics import confusion_matrix,classification_report,accuracy_score\n",
    "from sklearn.tree import DecisionTreeClassifier\n",
    "from sklearn.linear_model import LogisticRegression\n",
    "from sklearn.svm import SVC  \n",
    "from sklearn.naive_bayes import GaussianNB\n",
    "\n",
    "\n",
    "import warnings\n",
    "warnings.filterwarnings(\"ignore\")\n",
    "\n",
    "import logging\n",
    "logging.basicConfig(filename='log.txt',level=logging.DEBUG, format='%(asctime)s %(message)s')"
   ]
  },
  {
   "cell_type": "markdown",
   "id": "87e36b21",
   "metadata": {
    "papermill": {
     "duration": 0.018062,
     "end_time": "2022-11-18T08:06:32.333193",
     "exception": false,
     "start_time": "2022-11-18T08:06:32.315131",
     "status": "completed"
    },
    "tags": []
   },
   "source": [
    "# ***Loading the Dataset***"
   ]
  },
  {
   "cell_type": "code",
   "execution_count": 3,
   "id": "72645e2f",
   "metadata": {
    "execution": {
     "iopub.execute_input": "2022-11-18T08:06:32.372669Z",
     "iopub.status.busy": "2022-11-18T08:06:32.372020Z",
     "iopub.status.idle": "2022-11-18T08:06:33.436259Z",
     "shell.execute_reply": "2022-11-18T08:06:33.435050Z"
    },
    "papermill": {
     "duration": 1.087808,
     "end_time": "2022-11-18T08:06:33.439489",
     "exception": false,
     "start_time": "2022-11-18T08:06:32.351681",
     "status": "completed"
    },
    "tags": []
   },
   "outputs": [
    {
     "data": {
      "text/html": [
       "<div>\n",
       "<style scoped>\n",
       "    .dataframe tbody tr th:only-of-type {\n",
       "        vertical-align: middle;\n",
       "    }\n",
       "\n",
       "    .dataframe tbody tr th {\n",
       "        vertical-align: top;\n",
       "    }\n",
       "\n",
       "    .dataframe thead th {\n",
       "        text-align: right;\n",
       "    }\n",
       "</style>\n",
       "<table border=\"1\" class=\"dataframe\">\n",
       "  <thead>\n",
       "    <tr style=\"text-align: right;\">\n",
       "      <th></th>\n",
       "      <th>Unnamed: 0</th>\n",
       "      <th>url</th>\n",
       "      <th>label</th>\n",
       "      <th>result</th>\n",
       "    </tr>\n",
       "  </thead>\n",
       "  <tbody>\n",
       "    <tr>\n",
       "      <th>0</th>\n",
       "      <td>0</td>\n",
       "      <td>https://www.google.com</td>\n",
       "      <td>benign</td>\n",
       "      <td>0</td>\n",
       "    </tr>\n",
       "    <tr>\n",
       "      <th>1</th>\n",
       "      <td>1</td>\n",
       "      <td>https://www.youtube.com</td>\n",
       "      <td>benign</td>\n",
       "      <td>0</td>\n",
       "    </tr>\n",
       "    <tr>\n",
       "      <th>2</th>\n",
       "      <td>2</td>\n",
       "      <td>https://www.facebook.com</td>\n",
       "      <td>benign</td>\n",
       "      <td>0</td>\n",
       "    </tr>\n",
       "    <tr>\n",
       "      <th>3</th>\n",
       "      <td>3</td>\n",
       "      <td>https://www.baidu.com</td>\n",
       "      <td>benign</td>\n",
       "      <td>0</td>\n",
       "    </tr>\n",
       "    <tr>\n",
       "      <th>4</th>\n",
       "      <td>4</td>\n",
       "      <td>https://www.wikipedia.org</td>\n",
       "      <td>benign</td>\n",
       "      <td>0</td>\n",
       "    </tr>\n",
       "  </tbody>\n",
       "</table>\n",
       "</div>"
      ],
      "text/plain": [
       "   Unnamed: 0                        url   label  result\n",
       "0           0     https://www.google.com  benign       0\n",
       "1           1    https://www.youtube.com  benign       0\n",
       "2           2   https://www.facebook.com  benign       0\n",
       "3           3      https://www.baidu.com  benign       0\n",
       "4           4  https://www.wikipedia.org  benign       0"
      ]
     },
     "execution_count": 3,
     "metadata": {},
     "output_type": "execute_result"
    }
   ],
   "source": [
    "urldata = pd.read_csv(\"../input/malicious-url-detections/Malicious URLs detection.csv\")\n",
    "urldata.head()"
   ]
  },
  {
   "cell_type": "code",
   "execution_count": 4,
   "id": "df96e510",
   "metadata": {
    "execution": {
     "iopub.execute_input": "2022-11-18T08:06:33.482898Z",
     "iopub.status.busy": "2022-11-18T08:06:33.482484Z",
     "iopub.status.idle": "2022-11-18T08:06:33.513758Z",
     "shell.execute_reply": "2022-11-18T08:06:33.512689Z"
    },
    "papermill": {
     "duration": 0.055613,
     "end_time": "2022-11-18T08:06:33.515901",
     "exception": false,
     "start_time": "2022-11-18T08:06:33.460288",
     "status": "completed"
    },
    "tags": []
   },
   "outputs": [
    {
     "data": {
      "text/html": [
       "<div>\n",
       "<style scoped>\n",
       "    .dataframe tbody tr th:only-of-type {\n",
       "        vertical-align: middle;\n",
       "    }\n",
       "\n",
       "    .dataframe tbody tr th {\n",
       "        vertical-align: top;\n",
       "    }\n",
       "\n",
       "    .dataframe thead th {\n",
       "        text-align: right;\n",
       "    }\n",
       "</style>\n",
       "<table border=\"1\" class=\"dataframe\">\n",
       "  <thead>\n",
       "    <tr style=\"text-align: right;\">\n",
       "      <th></th>\n",
       "      <th>url</th>\n",
       "      <th>label</th>\n",
       "      <th>result</th>\n",
       "    </tr>\n",
       "  </thead>\n",
       "  <tbody>\n",
       "    <tr>\n",
       "      <th>0</th>\n",
       "      <td>https://www.google.com</td>\n",
       "      <td>benign</td>\n",
       "      <td>0</td>\n",
       "    </tr>\n",
       "    <tr>\n",
       "      <th>1</th>\n",
       "      <td>https://www.youtube.com</td>\n",
       "      <td>benign</td>\n",
       "      <td>0</td>\n",
       "    </tr>\n",
       "    <tr>\n",
       "      <th>2</th>\n",
       "      <td>https://www.facebook.com</td>\n",
       "      <td>benign</td>\n",
       "      <td>0</td>\n",
       "    </tr>\n",
       "    <tr>\n",
       "      <th>3</th>\n",
       "      <td>https://www.baidu.com</td>\n",
       "      <td>benign</td>\n",
       "      <td>0</td>\n",
       "    </tr>\n",
       "    <tr>\n",
       "      <th>4</th>\n",
       "      <td>https://www.wikipedia.org</td>\n",
       "      <td>benign</td>\n",
       "      <td>0</td>\n",
       "    </tr>\n",
       "  </tbody>\n",
       "</table>\n",
       "</div>"
      ],
      "text/plain": [
       "                         url   label  result\n",
       "0     https://www.google.com  benign       0\n",
       "1    https://www.youtube.com  benign       0\n",
       "2   https://www.facebook.com  benign       0\n",
       "3      https://www.baidu.com  benign       0\n",
       "4  https://www.wikipedia.org  benign       0"
      ]
     },
     "execution_count": 4,
     "metadata": {},
     "output_type": "execute_result"
    }
   ],
   "source": [
    "#Removing the unnamed columns as it is not necesary\n",
    "\n",
    "urldata = urldata.drop('Unnamed: 0',axis=1)\n",
    "urldata.head()"
   ]
  },
  {
   "cell_type": "markdown",
   "id": "0601f584",
   "metadata": {
    "papermill": {
     "duration": 0.018685,
     "end_time": "2022-11-18T08:06:33.553346",
     "exception": false,
     "start_time": "2022-11-18T08:06:33.534661",
     "status": "completed"
    },
    "tags": []
   },
   "source": [
    "# ***Introduction of dataset***"
   ]
  },
  {
   "cell_type": "code",
   "execution_count": 5,
   "id": "b612af6c",
   "metadata": {
    "execution": {
     "iopub.execute_input": "2022-11-18T08:06:33.591216Z",
     "iopub.status.busy": "2022-11-18T08:06:33.590813Z",
     "iopub.status.idle": "2022-11-18T08:06:33.598364Z",
     "shell.execute_reply": "2022-11-18T08:06:33.596933Z"
    },
    "papermill": {
     "duration": 0.029336,
     "end_time": "2022-11-18T08:06:33.600707",
     "exception": false,
     "start_time": "2022-11-18T08:06:33.571371",
     "status": "completed"
    },
    "tags": []
   },
   "outputs": [
    {
     "name": "stdout",
     "output_type": "stream",
     "text": [
      "Dataset number of records: 450176\n",
      "\n",
      "Dataset number of columns: 3\n"
     ]
    }
   ],
   "source": [
    "print('Dataset number of records: %s' % urldata.shape[0])\n",
    "print('\\nDataset number of columns: %s' % urldata.shape[1])"
   ]
  },
  {
   "cell_type": "code",
   "execution_count": 6,
   "id": "91e11e92",
   "metadata": {
    "execution": {
     "iopub.execute_input": "2022-11-18T08:06:33.641161Z",
     "iopub.status.busy": "2022-11-18T08:06:33.640438Z",
     "iopub.status.idle": "2022-11-18T08:06:33.676795Z",
     "shell.execute_reply": "2022-11-18T08:06:33.675685Z"
    },
    "papermill": {
     "duration": 0.059861,
     "end_time": "2022-11-18T08:06:33.679203",
     "exception": false,
     "start_time": "2022-11-18T08:06:33.619342",
     "status": "completed"
    },
    "tags": []
   },
   "outputs": [
    {
     "data": {
      "text/plain": [
       "benign       345738\n",
       "malicious    104438\n",
       "Name: label, dtype: int64"
      ]
     },
     "execution_count": 6,
     "metadata": {},
     "output_type": "execute_result"
    }
   ],
   "source": [
    "urldata[\"label\"].value_counts()"
   ]
  },
  {
   "cell_type": "code",
   "execution_count": 7,
   "id": "b1b3b3a6",
   "metadata": {
    "execution": {
     "iopub.execute_input": "2022-11-18T08:06:33.719087Z",
     "iopub.status.busy": "2022-11-18T08:06:33.718662Z",
     "iopub.status.idle": "2022-11-18T08:06:33.765126Z",
     "shell.execute_reply": "2022-11-18T08:06:33.763991Z"
    },
    "papermill": {
     "duration": 0.069748,
     "end_time": "2022-11-18T08:06:33.767694",
     "exception": false,
     "start_time": "2022-11-18T08:06:33.697946",
     "status": "completed"
    },
    "tags": []
   },
   "outputs": [
    {
     "data": {
      "text/html": [
       "<div>\n",
       "<style scoped>\n",
       "    .dataframe tbody tr th:only-of-type {\n",
       "        vertical-align: middle;\n",
       "    }\n",
       "\n",
       "    .dataframe tbody tr th {\n",
       "        vertical-align: top;\n",
       "    }\n",
       "\n",
       "    .dataframe thead th {\n",
       "        text-align: right;\n",
       "    }\n",
       "</style>\n",
       "<table border=\"1\" class=\"dataframe\">\n",
       "  <thead>\n",
       "    <tr style=\"text-align: right;\">\n",
       "      <th></th>\n",
       "      <th>count</th>\n",
       "      <th>mean</th>\n",
       "      <th>std</th>\n",
       "      <th>min</th>\n",
       "      <th>25%</th>\n",
       "      <th>50%</th>\n",
       "      <th>75%</th>\n",
       "      <th>max</th>\n",
       "    </tr>\n",
       "  </thead>\n",
       "  <tbody>\n",
       "    <tr>\n",
       "      <th>result</th>\n",
       "      <td>450176.0</td>\n",
       "      <td>0.231994</td>\n",
       "      <td>0.422105</td>\n",
       "      <td>0.0</td>\n",
       "      <td>0.0</td>\n",
       "      <td>0.0</td>\n",
       "      <td>0.0</td>\n",
       "      <td>1.0</td>\n",
       "    </tr>\n",
       "  </tbody>\n",
       "</table>\n",
       "</div>"
      ],
      "text/plain": [
       "           count      mean       std  min  25%  50%  75%  max\n",
       "result  450176.0  0.231994  0.422105  0.0  0.0  0.0  0.0  1.0"
      ]
     },
     "execution_count": 7,
     "metadata": {},
     "output_type": "execute_result"
    }
   ],
   "source": [
    "urldata.describe().T"
   ]
  },
  {
   "cell_type": "code",
   "execution_count": 8,
   "id": "7169b86b",
   "metadata": {
    "execution": {
     "iopub.execute_input": "2022-11-18T08:06:33.808822Z",
     "iopub.status.busy": "2022-11-18T08:06:33.807827Z",
     "iopub.status.idle": "2022-11-18T08:06:33.851837Z",
     "shell.execute_reply": "2022-11-18T08:06:33.850687Z"
    },
    "papermill": {
     "duration": 0.067237,
     "end_time": "2022-11-18T08:06:33.854576",
     "exception": false,
     "start_time": "2022-11-18T08:06:33.787339",
     "status": "completed"
    },
    "tags": []
   },
   "outputs": [
    {
     "data": {
      "text/plain": [
       "url       0\n",
       "label     0\n",
       "result    0\n",
       "dtype: int64"
      ]
     },
     "execution_count": 8,
     "metadata": {},
     "output_type": "execute_result"
    }
   ],
   "source": [
    "urldata.isnull().sum()"
   ]
  },
  {
   "cell_type": "markdown",
   "id": "9bbb12cd",
   "metadata": {
    "papermill": {
     "duration": 0.018776,
     "end_time": "2022-11-18T08:06:33.893012",
     "exception": false,
     "start_time": "2022-11-18T08:06:33.874236",
     "status": "completed"
    },
    "tags": []
   },
   "source": [
    "# ***DATA PREPROCESSING***"
   ]
  },
  {
   "cell_type": "markdown",
   "id": "310dac44",
   "metadata": {
    "papermill": {
     "duration": 0.018307,
     "end_time": "2022-11-18T08:06:33.930404",
     "exception": false,
     "start_time": "2022-11-18T08:06:33.912097",
     "status": "completed"
    },
    "tags": []
   },
   "source": [
    "## ***Length Features***\n",
    "\n",
    "        1. Length Of Url\n",
    "        2. Length of Hostname\n",
    "        3. Length Of Path\n",
    "        4. Length Of First Directory\n",
    "        5. Length Of Top Level Domain"
   ]
  },
  {
   "cell_type": "code",
   "execution_count": 9,
   "id": "b4ef5f7b",
   "metadata": {
    "execution": {
     "iopub.execute_input": "2022-11-18T08:06:33.970086Z",
     "iopub.status.busy": "2022-11-18T08:06:33.969666Z",
     "iopub.status.idle": "2022-11-18T08:06:33.976248Z",
     "shell.execute_reply": "2022-11-18T08:06:33.975312Z"
    },
    "papermill": {
     "duration": 0.029093,
     "end_time": "2022-11-18T08:06:33.978471",
     "exception": false,
     "start_time": "2022-11-18T08:06:33.949378",
     "status": "completed"
    },
    "tags": []
   },
   "outputs": [],
   "source": [
    "#First Directory Length\n",
    "\n",
    "def fd_length(url):\n",
    "    urlpath= urlparse(url).path\n",
    "    try:\n",
    "        return len(urlpath.split('/')[1])\n",
    "    except:\n",
    "        return 0"
   ]
  },
  {
   "cell_type": "code",
   "execution_count": 10,
   "id": "5ebcd7aa",
   "metadata": {
    "execution": {
     "iopub.execute_input": "2022-11-18T08:06:34.016016Z",
     "iopub.status.busy": "2022-11-18T08:06:34.014893Z",
     "iopub.status.idle": "2022-11-18T08:06:34.020466Z",
     "shell.execute_reply": "2022-11-18T08:06:34.019381Z"
    },
    "papermill": {
     "duration": 0.026433,
     "end_time": "2022-11-18T08:06:34.022637",
     "exception": false,
     "start_time": "2022-11-18T08:06:33.996204",
     "status": "completed"
    },
    "tags": []
   },
   "outputs": [],
   "source": [
    "#Length of Top Level Domain\n",
    "def tld_length(tld):\n",
    "    try:\n",
    "        return len(tld)\n",
    "    except:\n",
    "        return -1"
   ]
  },
  {
   "cell_type": "code",
   "execution_count": 11,
   "id": "f1acbe05",
   "metadata": {
    "execution": {
     "iopub.execute_input": "2022-11-18T08:06:34.060820Z",
     "iopub.status.busy": "2022-11-18T08:06:34.060411Z",
     "iopub.status.idle": "2022-11-18T08:06:34.068093Z",
     "shell.execute_reply": "2022-11-18T08:06:34.066954Z"
    },
    "papermill": {
     "duration": 0.029453,
     "end_time": "2022-11-18T08:06:34.070419",
     "exception": false,
     "start_time": "2022-11-18T08:06:34.040966",
     "status": "completed"
    },
    "tags": []
   },
   "outputs": [],
   "source": [
    "def len_preprocess(url_dataset):\n",
    "    #Length of URL\n",
    "    url_dataset['url_length'] = url_dataset['url'].apply(lambda i: len(str(i)))\n",
    "    \n",
    "    #Hostname Length\n",
    "    url_dataset['hostname_length'] = url_dataset['url'].apply(lambda i: len(urlparse(i).netloc))\n",
    "    \n",
    "    #Path Length\n",
    "    url_dataset['path_length'] = url_dataset['url'].apply(lambda i: len(urlparse(i).path))\n",
    "    \n",
    "    url_dataset['fd_length'] = url_dataset['url'].apply(lambda i: fd_length(i))\n",
    "    url_dataset['tld'] = url_dataset['url'].apply(lambda i: get_tld(i,fail_silently=True))\n",
    "    url_dataset['tld_length'] = url_dataset['tld'].apply(lambda i: tld_length(i))"
   ]
  },
  {
   "cell_type": "code",
   "execution_count": 12,
   "id": "24d3fad4",
   "metadata": {
    "execution": {
     "iopub.execute_input": "2022-11-18T08:06:34.107917Z",
     "iopub.status.busy": "2022-11-18T08:06:34.107568Z",
     "iopub.status.idle": "2022-11-18T08:06:53.635408Z",
     "shell.execute_reply": "2022-11-18T08:06:53.634369Z"
    },
    "papermill": {
     "duration": 19.549566,
     "end_time": "2022-11-18T08:06:53.637858",
     "exception": false,
     "start_time": "2022-11-18T08:06:34.088292",
     "status": "completed"
    },
    "tags": []
   },
   "outputs": [],
   "source": [
    "len_preprocess(urldata)"
   ]
  },
  {
   "cell_type": "code",
   "execution_count": 13,
   "id": "b115553c",
   "metadata": {
    "execution": {
     "iopub.execute_input": "2022-11-18T08:06:53.676185Z",
     "iopub.status.busy": "2022-11-18T08:06:53.675768Z",
     "iopub.status.idle": "2022-11-18T08:06:53.689151Z",
     "shell.execute_reply": "2022-11-18T08:06:53.688079Z"
    },
    "papermill": {
     "duration": 0.035354,
     "end_time": "2022-11-18T08:06:53.691397",
     "exception": false,
     "start_time": "2022-11-18T08:06:53.656043",
     "status": "completed"
    },
    "tags": []
   },
   "outputs": [
    {
     "data": {
      "text/html": [
       "<div>\n",
       "<style scoped>\n",
       "    .dataframe tbody tr th:only-of-type {\n",
       "        vertical-align: middle;\n",
       "    }\n",
       "\n",
       "    .dataframe tbody tr th {\n",
       "        vertical-align: top;\n",
       "    }\n",
       "\n",
       "    .dataframe thead th {\n",
       "        text-align: right;\n",
       "    }\n",
       "</style>\n",
       "<table border=\"1\" class=\"dataframe\">\n",
       "  <thead>\n",
       "    <tr style=\"text-align: right;\">\n",
       "      <th></th>\n",
       "      <th>url</th>\n",
       "      <th>label</th>\n",
       "      <th>result</th>\n",
       "      <th>url_length</th>\n",
       "      <th>hostname_length</th>\n",
       "      <th>path_length</th>\n",
       "      <th>fd_length</th>\n",
       "      <th>tld</th>\n",
       "      <th>tld_length</th>\n",
       "    </tr>\n",
       "  </thead>\n",
       "  <tbody>\n",
       "    <tr>\n",
       "      <th>0</th>\n",
       "      <td>https://www.google.com</td>\n",
       "      <td>benign</td>\n",
       "      <td>0</td>\n",
       "      <td>22</td>\n",
       "      <td>14</td>\n",
       "      <td>0</td>\n",
       "      <td>0</td>\n",
       "      <td>com</td>\n",
       "      <td>3</td>\n",
       "    </tr>\n",
       "    <tr>\n",
       "      <th>1</th>\n",
       "      <td>https://www.youtube.com</td>\n",
       "      <td>benign</td>\n",
       "      <td>0</td>\n",
       "      <td>23</td>\n",
       "      <td>15</td>\n",
       "      <td>0</td>\n",
       "      <td>0</td>\n",
       "      <td>com</td>\n",
       "      <td>3</td>\n",
       "    </tr>\n",
       "    <tr>\n",
       "      <th>2</th>\n",
       "      <td>https://www.facebook.com</td>\n",
       "      <td>benign</td>\n",
       "      <td>0</td>\n",
       "      <td>24</td>\n",
       "      <td>16</td>\n",
       "      <td>0</td>\n",
       "      <td>0</td>\n",
       "      <td>com</td>\n",
       "      <td>3</td>\n",
       "    </tr>\n",
       "    <tr>\n",
       "      <th>3</th>\n",
       "      <td>https://www.baidu.com</td>\n",
       "      <td>benign</td>\n",
       "      <td>0</td>\n",
       "      <td>21</td>\n",
       "      <td>13</td>\n",
       "      <td>0</td>\n",
       "      <td>0</td>\n",
       "      <td>com</td>\n",
       "      <td>3</td>\n",
       "    </tr>\n",
       "    <tr>\n",
       "      <th>4</th>\n",
       "      <td>https://www.wikipedia.org</td>\n",
       "      <td>benign</td>\n",
       "      <td>0</td>\n",
       "      <td>25</td>\n",
       "      <td>17</td>\n",
       "      <td>0</td>\n",
       "      <td>0</td>\n",
       "      <td>org</td>\n",
       "      <td>3</td>\n",
       "    </tr>\n",
       "  </tbody>\n",
       "</table>\n",
       "</div>"
      ],
      "text/plain": [
       "                         url   label  result  url_length  hostname_length  \\\n",
       "0     https://www.google.com  benign       0          22               14   \n",
       "1    https://www.youtube.com  benign       0          23               15   \n",
       "2   https://www.facebook.com  benign       0          24               16   \n",
       "3      https://www.baidu.com  benign       0          21               13   \n",
       "4  https://www.wikipedia.org  benign       0          25               17   \n",
       "\n",
       "   path_length  fd_length  tld  tld_length  \n",
       "0            0          0  com           3  \n",
       "1            0          0  com           3  \n",
       "2            0          0  com           3  \n",
       "3            0          0  com           3  \n",
       "4            0          0  org           3  "
      ]
     },
     "execution_count": 13,
     "metadata": {},
     "output_type": "execute_result"
    }
   ],
   "source": [
    "urldata.head()"
   ]
  },
  {
   "cell_type": "code",
   "execution_count": 14,
   "id": "76dd85a5",
   "metadata": {
    "execution": {
     "iopub.execute_input": "2022-11-18T08:06:53.732850Z",
     "iopub.status.busy": "2022-11-18T08:06:53.730767Z",
     "iopub.status.idle": "2022-11-18T08:06:53.835760Z",
     "shell.execute_reply": "2022-11-18T08:06:53.834702Z"
    },
    "papermill": {
     "duration": 0.128373,
     "end_time": "2022-11-18T08:06:53.838571",
     "exception": false,
     "start_time": "2022-11-18T08:06:53.710198",
     "status": "completed"
    },
    "tags": []
   },
   "outputs": [],
   "source": [
    "\n",
    "urldata = urldata.drop(\"tld\",1)"
   ]
  },
  {
   "cell_type": "code",
   "execution_count": 15,
   "id": "18f0e218",
   "metadata": {
    "execution": {
     "iopub.execute_input": "2022-11-18T08:06:53.878053Z",
     "iopub.status.busy": "2022-11-18T08:06:53.876888Z",
     "iopub.status.idle": "2022-11-18T08:06:53.889440Z",
     "shell.execute_reply": "2022-11-18T08:06:53.888378Z"
    },
    "papermill": {
     "duration": 0.034607,
     "end_time": "2022-11-18T08:06:53.891691",
     "exception": false,
     "start_time": "2022-11-18T08:06:53.857084",
     "status": "completed"
    },
    "tags": []
   },
   "outputs": [
    {
     "data": {
      "text/html": [
       "<div>\n",
       "<style scoped>\n",
       "    .dataframe tbody tr th:only-of-type {\n",
       "        vertical-align: middle;\n",
       "    }\n",
       "\n",
       "    .dataframe tbody tr th {\n",
       "        vertical-align: top;\n",
       "    }\n",
       "\n",
       "    .dataframe thead th {\n",
       "        text-align: right;\n",
       "    }\n",
       "</style>\n",
       "<table border=\"1\" class=\"dataframe\">\n",
       "  <thead>\n",
       "    <tr style=\"text-align: right;\">\n",
       "      <th></th>\n",
       "      <th>url</th>\n",
       "      <th>label</th>\n",
       "      <th>result</th>\n",
       "      <th>url_length</th>\n",
       "      <th>hostname_length</th>\n",
       "      <th>path_length</th>\n",
       "      <th>fd_length</th>\n",
       "      <th>tld_length</th>\n",
       "    </tr>\n",
       "  </thead>\n",
       "  <tbody>\n",
       "    <tr>\n",
       "      <th>0</th>\n",
       "      <td>https://www.google.com</td>\n",
       "      <td>benign</td>\n",
       "      <td>0</td>\n",
       "      <td>22</td>\n",
       "      <td>14</td>\n",
       "      <td>0</td>\n",
       "      <td>0</td>\n",
       "      <td>3</td>\n",
       "    </tr>\n",
       "    <tr>\n",
       "      <th>1</th>\n",
       "      <td>https://www.youtube.com</td>\n",
       "      <td>benign</td>\n",
       "      <td>0</td>\n",
       "      <td>23</td>\n",
       "      <td>15</td>\n",
       "      <td>0</td>\n",
       "      <td>0</td>\n",
       "      <td>3</td>\n",
       "    </tr>\n",
       "    <tr>\n",
       "      <th>2</th>\n",
       "      <td>https://www.facebook.com</td>\n",
       "      <td>benign</td>\n",
       "      <td>0</td>\n",
       "      <td>24</td>\n",
       "      <td>16</td>\n",
       "      <td>0</td>\n",
       "      <td>0</td>\n",
       "      <td>3</td>\n",
       "    </tr>\n",
       "    <tr>\n",
       "      <th>3</th>\n",
       "      <td>https://www.baidu.com</td>\n",
       "      <td>benign</td>\n",
       "      <td>0</td>\n",
       "      <td>21</td>\n",
       "      <td>13</td>\n",
       "      <td>0</td>\n",
       "      <td>0</td>\n",
       "      <td>3</td>\n",
       "    </tr>\n",
       "    <tr>\n",
       "      <th>4</th>\n",
       "      <td>https://www.wikipedia.org</td>\n",
       "      <td>benign</td>\n",
       "      <td>0</td>\n",
       "      <td>25</td>\n",
       "      <td>17</td>\n",
       "      <td>0</td>\n",
       "      <td>0</td>\n",
       "      <td>3</td>\n",
       "    </tr>\n",
       "  </tbody>\n",
       "</table>\n",
       "</div>"
      ],
      "text/plain": [
       "                         url   label  result  url_length  hostname_length  \\\n",
       "0     https://www.google.com  benign       0          22               14   \n",
       "1    https://www.youtube.com  benign       0          23               15   \n",
       "2   https://www.facebook.com  benign       0          24               16   \n",
       "3      https://www.baidu.com  benign       0          21               13   \n",
       "4  https://www.wikipedia.org  benign       0          25               17   \n",
       "\n",
       "   path_length  fd_length  tld_length  \n",
       "0            0          0           3  \n",
       "1            0          0           3  \n",
       "2            0          0           3  \n",
       "3            0          0           3  \n",
       "4            0          0           3  "
      ]
     },
     "execution_count": 15,
     "metadata": {},
     "output_type": "execute_result"
    }
   ],
   "source": [
    "urldata.head()"
   ]
  },
  {
   "cell_type": "markdown",
   "id": "26504ae9",
   "metadata": {
    "papermill": {
     "duration": 0.017918,
     "end_time": "2022-11-18T08:06:53.927590",
     "exception": false,
     "start_time": "2022-11-18T08:06:53.909672",
     "status": "completed"
    },
    "tags": []
   },
   "source": [
    "## ***Count Features***\n",
    "\n",
    "        1. Count Of '-'\n",
    "        2. Count Of '@'\n",
    "        3. Count Of '?'\n",
    "        4. Count Of '%'\n",
    "        5. Count Of '.'\n",
    "        6. Count Of '='\n",
    "        7. Count Of 'http'\n",
    "        8. Count Of 'www'\n",
    "        9. Count Of Digits\n",
    "        10.Count Of Letters\n",
    "        11.Count Of Number Of Directories\n"
   ]
  },
  {
   "cell_type": "code",
   "execution_count": 16,
   "id": "77be2124",
   "metadata": {
    "execution": {
     "iopub.execute_input": "2022-11-18T08:06:53.966553Z",
     "iopub.status.busy": "2022-11-18T08:06:53.966164Z",
     "iopub.status.idle": "2022-11-18T08:06:53.971491Z",
     "shell.execute_reply": "2022-11-18T08:06:53.970433Z"
    },
    "papermill": {
     "duration": 0.027528,
     "end_time": "2022-11-18T08:06:53.973729",
     "exception": false,
     "start_time": "2022-11-18T08:06:53.946201",
     "status": "completed"
    },
    "tags": []
   },
   "outputs": [],
   "source": [
    "def digit_count(url):\n",
    "    digits = 0\n",
    "    for i in url:\n",
    "        if i.isnumeric():\n",
    "            digits = digits + 1\n",
    "    return digits"
   ]
  },
  {
   "cell_type": "code",
   "execution_count": 17,
   "id": "c6db78dc",
   "metadata": {
    "execution": {
     "iopub.execute_input": "2022-11-18T08:06:54.013926Z",
     "iopub.status.busy": "2022-11-18T08:06:54.011747Z",
     "iopub.status.idle": "2022-11-18T08:06:54.018065Z",
     "shell.execute_reply": "2022-11-18T08:06:54.017073Z"
    },
    "papermill": {
     "duration": 0.0284,
     "end_time": "2022-11-18T08:06:54.020268",
     "exception": false,
     "start_time": "2022-11-18T08:06:53.991868",
     "status": "completed"
    },
    "tags": []
   },
   "outputs": [],
   "source": [
    "def letter_count(url):\n",
    "    letters = 0\n",
    "    for i in url:\n",
    "        if i.isalpha():\n",
    "            letters = letters + 1\n",
    "    return letters"
   ]
  },
  {
   "cell_type": "code",
   "execution_count": 18,
   "id": "6b6cbcbd",
   "metadata": {
    "execution": {
     "iopub.execute_input": "2022-11-18T08:06:54.060191Z",
     "iopub.status.busy": "2022-11-18T08:06:54.058986Z",
     "iopub.status.idle": "2022-11-18T08:06:54.064905Z",
     "shell.execute_reply": "2022-11-18T08:06:54.063896Z"
    },
    "papermill": {
     "duration": 0.028743,
     "end_time": "2022-11-18T08:06:54.067190",
     "exception": false,
     "start_time": "2022-11-18T08:06:54.038447",
     "status": "completed"
    },
    "tags": []
   },
   "outputs": [],
   "source": [
    "def no_of_dir(url):\n",
    "    urldir = urlparse(url).path\n",
    "    return urldir.count('/')"
   ]
  },
  {
   "cell_type": "code",
   "execution_count": 19,
   "id": "33b91283",
   "metadata": {
    "execution": {
     "iopub.execute_input": "2022-11-18T08:06:54.105746Z",
     "iopub.status.busy": "2022-11-18T08:06:54.105374Z",
     "iopub.status.idle": "2022-11-18T08:06:54.116110Z",
     "shell.execute_reply": "2022-11-18T08:06:54.115069Z"
    },
    "papermill": {
     "duration": 0.032381,
     "end_time": "2022-11-18T08:06:54.118348",
     "exception": false,
     "start_time": "2022-11-18T08:06:54.085967",
     "status": "completed"
    },
    "tags": []
   },
   "outputs": [],
   "source": [
    "def count_preprocess(url_dataset):\n",
    "    url_dataset['count_dir'] = url_dataset['url'].apply(lambda i: no_of_dir(i))\n",
    "    url_dataset['count-letters']= url_dataset['url'].apply(lambda i: letter_count(i))\n",
    "    url_dataset['count-digits']= url_dataset['url'].apply(lambda i: digit_count(i))\n",
    "    url_dataset['count-www'] = url_dataset['url'].apply(lambda i: i.count('www'))\n",
    "    url_dataset['count-https'] = url_dataset['url'].apply(lambda i : i.count('https'))\n",
    "    url_dataset['count-http'] = url_dataset['url'].apply(lambda i : i.count('http'))\n",
    "    url_dataset['count='] = url_dataset['url'].apply(lambda i: i.count('='))\n",
    "    url_dataset['count.'] = url_dataset['url'].apply(lambda i: i.count('.'))\n",
    "    url_dataset['count%'] = url_dataset['url'].apply(lambda i: i.count('%'))\n",
    "    url_dataset['count?'] = url_dataset['url'].apply(lambda i: i.count('?'))\n",
    "    url_dataset['count@'] = url_dataset['url'].apply(lambda i: i.count('@'))\n",
    "    url_dataset['count-'] = url_dataset['url'].apply(lambda i: i.count('-'))"
   ]
  },
  {
   "cell_type": "code",
   "execution_count": 20,
   "id": "6b57414e",
   "metadata": {
    "execution": {
     "iopub.execute_input": "2022-11-18T08:06:54.159916Z",
     "iopub.status.busy": "2022-11-18T08:06:54.158759Z",
     "iopub.status.idle": "2022-11-18T08:07:06.602384Z",
     "shell.execute_reply": "2022-11-18T08:07:06.601052Z"
    },
    "papermill": {
     "duration": 12.46742,
     "end_time": "2022-11-18T08:07:06.605169",
     "exception": false,
     "start_time": "2022-11-18T08:06:54.137749",
     "status": "completed"
    },
    "tags": []
   },
   "outputs": [],
   "source": [
    "\n",
    "count_preprocess(urldata)"
   ]
  },
  {
   "cell_type": "code",
   "execution_count": 21,
   "id": "8e4d391d",
   "metadata": {
    "execution": {
     "iopub.execute_input": "2022-11-18T08:07:06.645554Z",
     "iopub.status.busy": "2022-11-18T08:07:06.645163Z",
     "iopub.status.idle": "2022-11-18T08:07:06.662327Z",
     "shell.execute_reply": "2022-11-18T08:07:06.661183Z"
    },
    "papermill": {
     "duration": 0.0404,
     "end_time": "2022-11-18T08:07:06.665158",
     "exception": false,
     "start_time": "2022-11-18T08:07:06.624758",
     "status": "completed"
    },
    "tags": []
   },
   "outputs": [
    {
     "data": {
      "text/html": [
       "<div>\n",
       "<style scoped>\n",
       "    .dataframe tbody tr th:only-of-type {\n",
       "        vertical-align: middle;\n",
       "    }\n",
       "\n",
       "    .dataframe tbody tr th {\n",
       "        vertical-align: top;\n",
       "    }\n",
       "\n",
       "    .dataframe thead th {\n",
       "        text-align: right;\n",
       "    }\n",
       "</style>\n",
       "<table border=\"1\" class=\"dataframe\">\n",
       "  <thead>\n",
       "    <tr style=\"text-align: right;\">\n",
       "      <th></th>\n",
       "      <th>url</th>\n",
       "      <th>label</th>\n",
       "      <th>result</th>\n",
       "      <th>url_length</th>\n",
       "      <th>hostname_length</th>\n",
       "      <th>path_length</th>\n",
       "      <th>fd_length</th>\n",
       "      <th>tld_length</th>\n",
       "      <th>count_dir</th>\n",
       "      <th>count-letters</th>\n",
       "      <th>count-digits</th>\n",
       "      <th>count-www</th>\n",
       "      <th>count-https</th>\n",
       "      <th>count-http</th>\n",
       "      <th>count=</th>\n",
       "      <th>count.</th>\n",
       "      <th>count%</th>\n",
       "      <th>count?</th>\n",
       "      <th>count@</th>\n",
       "      <th>count-</th>\n",
       "    </tr>\n",
       "  </thead>\n",
       "  <tbody>\n",
       "    <tr>\n",
       "      <th>0</th>\n",
       "      <td>https://www.google.com</td>\n",
       "      <td>benign</td>\n",
       "      <td>0</td>\n",
       "      <td>22</td>\n",
       "      <td>14</td>\n",
       "      <td>0</td>\n",
       "      <td>0</td>\n",
       "      <td>3</td>\n",
       "      <td>0</td>\n",
       "      <td>17</td>\n",
       "      <td>0</td>\n",
       "      <td>1</td>\n",
       "      <td>1</td>\n",
       "      <td>1</td>\n",
       "      <td>0</td>\n",
       "      <td>2</td>\n",
       "      <td>0</td>\n",
       "      <td>0</td>\n",
       "      <td>0</td>\n",
       "      <td>0</td>\n",
       "    </tr>\n",
       "    <tr>\n",
       "      <th>1</th>\n",
       "      <td>https://www.youtube.com</td>\n",
       "      <td>benign</td>\n",
       "      <td>0</td>\n",
       "      <td>23</td>\n",
       "      <td>15</td>\n",
       "      <td>0</td>\n",
       "      <td>0</td>\n",
       "      <td>3</td>\n",
       "      <td>0</td>\n",
       "      <td>18</td>\n",
       "      <td>0</td>\n",
       "      <td>1</td>\n",
       "      <td>1</td>\n",
       "      <td>1</td>\n",
       "      <td>0</td>\n",
       "      <td>2</td>\n",
       "      <td>0</td>\n",
       "      <td>0</td>\n",
       "      <td>0</td>\n",
       "      <td>0</td>\n",
       "    </tr>\n",
       "    <tr>\n",
       "      <th>2</th>\n",
       "      <td>https://www.facebook.com</td>\n",
       "      <td>benign</td>\n",
       "      <td>0</td>\n",
       "      <td>24</td>\n",
       "      <td>16</td>\n",
       "      <td>0</td>\n",
       "      <td>0</td>\n",
       "      <td>3</td>\n",
       "      <td>0</td>\n",
       "      <td>19</td>\n",
       "      <td>0</td>\n",
       "      <td>1</td>\n",
       "      <td>1</td>\n",
       "      <td>1</td>\n",
       "      <td>0</td>\n",
       "      <td>2</td>\n",
       "      <td>0</td>\n",
       "      <td>0</td>\n",
       "      <td>0</td>\n",
       "      <td>0</td>\n",
       "    </tr>\n",
       "    <tr>\n",
       "      <th>3</th>\n",
       "      <td>https://www.baidu.com</td>\n",
       "      <td>benign</td>\n",
       "      <td>0</td>\n",
       "      <td>21</td>\n",
       "      <td>13</td>\n",
       "      <td>0</td>\n",
       "      <td>0</td>\n",
       "      <td>3</td>\n",
       "      <td>0</td>\n",
       "      <td>16</td>\n",
       "      <td>0</td>\n",
       "      <td>1</td>\n",
       "      <td>1</td>\n",
       "      <td>1</td>\n",
       "      <td>0</td>\n",
       "      <td>2</td>\n",
       "      <td>0</td>\n",
       "      <td>0</td>\n",
       "      <td>0</td>\n",
       "      <td>0</td>\n",
       "    </tr>\n",
       "    <tr>\n",
       "      <th>4</th>\n",
       "      <td>https://www.wikipedia.org</td>\n",
       "      <td>benign</td>\n",
       "      <td>0</td>\n",
       "      <td>25</td>\n",
       "      <td>17</td>\n",
       "      <td>0</td>\n",
       "      <td>0</td>\n",
       "      <td>3</td>\n",
       "      <td>0</td>\n",
       "      <td>20</td>\n",
       "      <td>0</td>\n",
       "      <td>1</td>\n",
       "      <td>1</td>\n",
       "      <td>1</td>\n",
       "      <td>0</td>\n",
       "      <td>2</td>\n",
       "      <td>0</td>\n",
       "      <td>0</td>\n",
       "      <td>0</td>\n",
       "      <td>0</td>\n",
       "    </tr>\n",
       "  </tbody>\n",
       "</table>\n",
       "</div>"
      ],
      "text/plain": [
       "                         url   label  result  url_length  hostname_length  \\\n",
       "0     https://www.google.com  benign       0          22               14   \n",
       "1    https://www.youtube.com  benign       0          23               15   \n",
       "2   https://www.facebook.com  benign       0          24               16   \n",
       "3      https://www.baidu.com  benign       0          21               13   \n",
       "4  https://www.wikipedia.org  benign       0          25               17   \n",
       "\n",
       "   path_length  fd_length  tld_length  count_dir  count-letters  count-digits  \\\n",
       "0            0          0           3          0             17             0   \n",
       "1            0          0           3          0             18             0   \n",
       "2            0          0           3          0             19             0   \n",
       "3            0          0           3          0             16             0   \n",
       "4            0          0           3          0             20             0   \n",
       "\n",
       "   count-www  count-https  count-http  count=  count.  count%  count?  count@  \\\n",
       "0          1            1           1       0       2       0       0       0   \n",
       "1          1            1           1       0       2       0       0       0   \n",
       "2          1            1           1       0       2       0       0       0   \n",
       "3          1            1           1       0       2       0       0       0   \n",
       "4          1            1           1       0       2       0       0       0   \n",
       "\n",
       "   count-  \n",
       "0       0  \n",
       "1       0  \n",
       "2       0  \n",
       "3       0  \n",
       "4       0  "
      ]
     },
     "execution_count": 21,
     "metadata": {},
     "output_type": "execute_result"
    }
   ],
   "source": [
    "urldata.head()"
   ]
  },
  {
   "cell_type": "markdown",
   "id": "b88268f3",
   "metadata": {
    "papermill": {
     "duration": 0.018698,
     "end_time": "2022-11-18T08:07:06.702763",
     "exception": false,
     "start_time": "2022-11-18T08:07:06.684065",
     "status": "completed"
    },
    "tags": []
   },
   "source": [
    "## ***Binary Features***\n",
    "\n",
    "    1. Use of IP or not\n",
    "    2. Use of Shortening URL or not"
   ]
  },
  {
   "cell_type": "code",
   "execution_count": 22,
   "id": "500b8243",
   "metadata": {
    "execution": {
     "iopub.execute_input": "2022-11-18T08:07:06.746338Z",
     "iopub.status.busy": "2022-11-18T08:07:06.744690Z",
     "iopub.status.idle": "2022-11-18T08:07:06.751820Z",
     "shell.execute_reply": "2022-11-18T08:07:06.750816Z"
    },
    "papermill": {
     "duration": 0.031227,
     "end_time": "2022-11-18T08:07:06.754351",
     "exception": false,
     "start_time": "2022-11-18T08:07:06.723124",
     "status": "completed"
    },
    "tags": []
   },
   "outputs": [],
   "source": [
    "#Use of IP or not in domain\n",
    "\n",
    "def having_ip_address(url):\n",
    "    match = re.search(\n",
    "        '(([01]?\\\\d\\\\d?|2[0-4]\\\\d|25[0-5])\\\\.([01]?\\\\d\\\\d?|2[0-4]\\\\d|25[0-5])\\\\.([01]?\\\\d\\\\d?|2[0-4]\\\\d|25[0-5])\\\\.'\n",
    "        '([01]?\\\\d\\\\d?|2[0-4]\\\\d|25[0-5])\\\\/)|'  # IPv4\n",
    "        '((0x[0-9a-fA-F]{1,2})\\\\.(0x[0-9a-fA-F]{1,2})\\\\.(0x[0-9a-fA-F]{1,2})\\\\.(0x[0-9a-fA-F]{1,2})\\\\/)' # IPv4 in hexadecimal\n",
    "        '(?:[a-fA-F0-9]{1,4}:){7}[a-fA-F0-9]{1,4}', url)  # Ipv6\n",
    "    if match:\n",
    "        # print match.group()\n",
    "        return -1\n",
    "    else:\n",
    "        # print 'No matching pattern found'\n",
    "        return 1"
   ]
  },
  {
   "cell_type": "code",
   "execution_count": 23,
   "id": "4c361af4",
   "metadata": {
    "execution": {
     "iopub.execute_input": "2022-11-18T08:07:06.798166Z",
     "iopub.status.busy": "2022-11-18T08:07:06.796934Z",
     "iopub.status.idle": "2022-11-18T08:07:06.803961Z",
     "shell.execute_reply": "2022-11-18T08:07:06.802960Z"
    },
    "papermill": {
     "duration": 0.031163,
     "end_time": "2022-11-18T08:07:06.806364",
     "exception": false,
     "start_time": "2022-11-18T08:07:06.775201",
     "status": "completed"
    },
    "tags": []
   },
   "outputs": [],
   "source": [
    "def shortening_service(url):\n",
    "    match = re.search('bit\\.ly|goo\\.gl|shorte\\.st|go2l\\.ink|x\\.co|ow\\.ly|t\\.co|tinyurl|tr\\.im|is\\.gd|cli\\.gs|'\n",
    "                      'yfrog\\.com|migre\\.me|ff\\.im|tiny\\.cc|url4\\.eu|twit\\.ac|su\\.pr|twurl\\.nl|snipurl\\.com|'\n",
    "                      'short\\.to|BudURL\\.com|ping\\.fm|post\\.ly|Just\\.as|bkite\\.com|snipr\\.com|fic\\.kr|loopt\\.us|'\n",
    "                      'doiop\\.com|short\\.ie|kl\\.am|wp\\.me|rubyurl\\.com|om\\.ly|to\\.ly|bit\\.do|t\\.co|lnkd\\.in|'\n",
    "                      'db\\.tt|qr\\.ae|adf\\.ly|goo\\.gl|bitly\\.com|cur\\.lv|tinyurl\\.com|ow\\.ly|bit\\.ly|ity\\.im|'\n",
    "                      'q\\.gs|is\\.gd|po\\.st|bc\\.vc|twitthis\\.com|u\\.to|j\\.mp|buzurl\\.com|cutt\\.us|u\\.bb|yourls\\.org|'\n",
    "                      'x\\.co|prettylinkpro\\.com|scrnch\\.me|filoops\\.info|vzturl\\.com|qr\\.net|1url\\.com|tweez\\.me|v\\.gd|'\n",
    "                      'tr\\.im|link\\.zip\\.net',\n",
    "                      url)\n",
    "    if match:\n",
    "        return -1\n",
    "    else:\n",
    "        return 1"
   ]
  },
  {
   "cell_type": "code",
   "execution_count": 24,
   "id": "d1e563e5",
   "metadata": {
    "execution": {
     "iopub.execute_input": "2022-11-18T08:07:06.849204Z",
     "iopub.status.busy": "2022-11-18T08:07:06.848188Z",
     "iopub.status.idle": "2022-11-18T08:07:06.854606Z",
     "shell.execute_reply": "2022-11-18T08:07:06.853599Z"
    },
    "papermill": {
     "duration": 0.030172,
     "end_time": "2022-11-18T08:07:06.856909",
     "exception": false,
     "start_time": "2022-11-18T08:07:06.826737",
     "status": "completed"
    },
    "tags": []
   },
   "outputs": [],
   "source": [
    "def ip_process(url_dataset):\n",
    "    url_dataset['short_url'] = url_dataset['url'].apply(lambda i: shortening_service(i))\n",
    "    url_dataset['use_of_ip'] = url_dataset['url'].apply(lambda i: having_ip_address(i))"
   ]
  },
  {
   "cell_type": "code",
   "execution_count": 25,
   "id": "5f09ac6e",
   "metadata": {
    "execution": {
     "iopub.execute_input": "2022-11-18T08:07:06.897657Z",
     "iopub.status.busy": "2022-11-18T08:07:06.896907Z",
     "iopub.status.idle": "2022-11-18T08:07:14.894654Z",
     "shell.execute_reply": "2022-11-18T08:07:14.893351Z"
    },
    "papermill": {
     "duration": 8.021192,
     "end_time": "2022-11-18T08:07:14.897622",
     "exception": false,
     "start_time": "2022-11-18T08:07:06.876430",
     "status": "completed"
    },
    "tags": []
   },
   "outputs": [],
   "source": [
    "ip_process(urldata)"
   ]
  },
  {
   "cell_type": "code",
   "execution_count": 26,
   "id": "e68ba1b3",
   "metadata": {
    "execution": {
     "iopub.execute_input": "2022-11-18T08:07:14.936919Z",
     "iopub.status.busy": "2022-11-18T08:07:14.936546Z",
     "iopub.status.idle": "2022-11-18T08:07:14.956445Z",
     "shell.execute_reply": "2022-11-18T08:07:14.955292Z"
    },
    "papermill": {
     "duration": 0.043121,
     "end_time": "2022-11-18T08:07:14.959416",
     "exception": false,
     "start_time": "2022-11-18T08:07:14.916295",
     "status": "completed"
    },
    "tags": []
   },
   "outputs": [
    {
     "data": {
      "text/html": [
       "<div>\n",
       "<style scoped>\n",
       "    .dataframe tbody tr th:only-of-type {\n",
       "        vertical-align: middle;\n",
       "    }\n",
       "\n",
       "    .dataframe tbody tr th {\n",
       "        vertical-align: top;\n",
       "    }\n",
       "\n",
       "    .dataframe thead th {\n",
       "        text-align: right;\n",
       "    }\n",
       "</style>\n",
       "<table border=\"1\" class=\"dataframe\">\n",
       "  <thead>\n",
       "    <tr style=\"text-align: right;\">\n",
       "      <th></th>\n",
       "      <th>url</th>\n",
       "      <th>label</th>\n",
       "      <th>result</th>\n",
       "      <th>url_length</th>\n",
       "      <th>hostname_length</th>\n",
       "      <th>path_length</th>\n",
       "      <th>fd_length</th>\n",
       "      <th>tld_length</th>\n",
       "      <th>count_dir</th>\n",
       "      <th>count-letters</th>\n",
       "      <th>...</th>\n",
       "      <th>count-https</th>\n",
       "      <th>count-http</th>\n",
       "      <th>count=</th>\n",
       "      <th>count.</th>\n",
       "      <th>count%</th>\n",
       "      <th>count?</th>\n",
       "      <th>count@</th>\n",
       "      <th>count-</th>\n",
       "      <th>short_url</th>\n",
       "      <th>use_of_ip</th>\n",
       "    </tr>\n",
       "  </thead>\n",
       "  <tbody>\n",
       "    <tr>\n",
       "      <th>0</th>\n",
       "      <td>https://www.google.com</td>\n",
       "      <td>benign</td>\n",
       "      <td>0</td>\n",
       "      <td>22</td>\n",
       "      <td>14</td>\n",
       "      <td>0</td>\n",
       "      <td>0</td>\n",
       "      <td>3</td>\n",
       "      <td>0</td>\n",
       "      <td>17</td>\n",
       "      <td>...</td>\n",
       "      <td>1</td>\n",
       "      <td>1</td>\n",
       "      <td>0</td>\n",
       "      <td>2</td>\n",
       "      <td>0</td>\n",
       "      <td>0</td>\n",
       "      <td>0</td>\n",
       "      <td>0</td>\n",
       "      <td>1</td>\n",
       "      <td>1</td>\n",
       "    </tr>\n",
       "    <tr>\n",
       "      <th>1</th>\n",
       "      <td>https://www.youtube.com</td>\n",
       "      <td>benign</td>\n",
       "      <td>0</td>\n",
       "      <td>23</td>\n",
       "      <td>15</td>\n",
       "      <td>0</td>\n",
       "      <td>0</td>\n",
       "      <td>3</td>\n",
       "      <td>0</td>\n",
       "      <td>18</td>\n",
       "      <td>...</td>\n",
       "      <td>1</td>\n",
       "      <td>1</td>\n",
       "      <td>0</td>\n",
       "      <td>2</td>\n",
       "      <td>0</td>\n",
       "      <td>0</td>\n",
       "      <td>0</td>\n",
       "      <td>0</td>\n",
       "      <td>1</td>\n",
       "      <td>1</td>\n",
       "    </tr>\n",
       "    <tr>\n",
       "      <th>2</th>\n",
       "      <td>https://www.facebook.com</td>\n",
       "      <td>benign</td>\n",
       "      <td>0</td>\n",
       "      <td>24</td>\n",
       "      <td>16</td>\n",
       "      <td>0</td>\n",
       "      <td>0</td>\n",
       "      <td>3</td>\n",
       "      <td>0</td>\n",
       "      <td>19</td>\n",
       "      <td>...</td>\n",
       "      <td>1</td>\n",
       "      <td>1</td>\n",
       "      <td>0</td>\n",
       "      <td>2</td>\n",
       "      <td>0</td>\n",
       "      <td>0</td>\n",
       "      <td>0</td>\n",
       "      <td>0</td>\n",
       "      <td>1</td>\n",
       "      <td>1</td>\n",
       "    </tr>\n",
       "    <tr>\n",
       "      <th>3</th>\n",
       "      <td>https://www.baidu.com</td>\n",
       "      <td>benign</td>\n",
       "      <td>0</td>\n",
       "      <td>21</td>\n",
       "      <td>13</td>\n",
       "      <td>0</td>\n",
       "      <td>0</td>\n",
       "      <td>3</td>\n",
       "      <td>0</td>\n",
       "      <td>16</td>\n",
       "      <td>...</td>\n",
       "      <td>1</td>\n",
       "      <td>1</td>\n",
       "      <td>0</td>\n",
       "      <td>2</td>\n",
       "      <td>0</td>\n",
       "      <td>0</td>\n",
       "      <td>0</td>\n",
       "      <td>0</td>\n",
       "      <td>1</td>\n",
       "      <td>1</td>\n",
       "    </tr>\n",
       "    <tr>\n",
       "      <th>4</th>\n",
       "      <td>https://www.wikipedia.org</td>\n",
       "      <td>benign</td>\n",
       "      <td>0</td>\n",
       "      <td>25</td>\n",
       "      <td>17</td>\n",
       "      <td>0</td>\n",
       "      <td>0</td>\n",
       "      <td>3</td>\n",
       "      <td>0</td>\n",
       "      <td>20</td>\n",
       "      <td>...</td>\n",
       "      <td>1</td>\n",
       "      <td>1</td>\n",
       "      <td>0</td>\n",
       "      <td>2</td>\n",
       "      <td>0</td>\n",
       "      <td>0</td>\n",
       "      <td>0</td>\n",
       "      <td>0</td>\n",
       "      <td>1</td>\n",
       "      <td>1</td>\n",
       "    </tr>\n",
       "  </tbody>\n",
       "</table>\n",
       "<p>5 rows × 22 columns</p>\n",
       "</div>"
      ],
      "text/plain": [
       "                         url   label  result  url_length  hostname_length  \\\n",
       "0     https://www.google.com  benign       0          22               14   \n",
       "1    https://www.youtube.com  benign       0          23               15   \n",
       "2   https://www.facebook.com  benign       0          24               16   \n",
       "3      https://www.baidu.com  benign       0          21               13   \n",
       "4  https://www.wikipedia.org  benign       0          25               17   \n",
       "\n",
       "   path_length  fd_length  tld_length  count_dir  count-letters  ...  \\\n",
       "0            0          0           3          0             17  ...   \n",
       "1            0          0           3          0             18  ...   \n",
       "2            0          0           3          0             19  ...   \n",
       "3            0          0           3          0             16  ...   \n",
       "4            0          0           3          0             20  ...   \n",
       "\n",
       "   count-https  count-http  count=  count.  count%  count?  count@  count-  \\\n",
       "0            1           1       0       2       0       0       0       0   \n",
       "1            1           1       0       2       0       0       0       0   \n",
       "2            1           1       0       2       0       0       0       0   \n",
       "3            1           1       0       2       0       0       0       0   \n",
       "4            1           1       0       2       0       0       0       0   \n",
       "\n",
       "   short_url  use_of_ip  \n",
       "0          1          1  \n",
       "1          1          1  \n",
       "2          1          1  \n",
       "3          1          1  \n",
       "4          1          1  \n",
       "\n",
       "[5 rows x 22 columns]"
      ]
     },
     "execution_count": 26,
     "metadata": {},
     "output_type": "execute_result"
    }
   ],
   "source": [
    "urldata.head()"
   ]
  },
  {
   "cell_type": "markdown",
   "id": "e481fd97",
   "metadata": {
    "papermill": {
     "duration": 0.01983,
     "end_time": "2022-11-18T08:07:14.998201",
     "exception": false,
     "start_time": "2022-11-18T08:07:14.978371",
     "status": "completed"
    },
    "tags": []
   },
   "source": [
    "# ***Data Visualization***"
   ]
  },
  {
   "cell_type": "code",
   "execution_count": 27,
   "id": "4eed43fc",
   "metadata": {
    "execution": {
     "iopub.execute_input": "2022-11-18T08:07:15.037880Z",
     "iopub.status.busy": "2022-11-18T08:07:15.037520Z",
     "iopub.status.idle": "2022-11-18T08:07:18.569023Z",
     "shell.execute_reply": "2022-11-18T08:07:18.568068Z"
    },
    "papermill": {
     "duration": 3.556475,
     "end_time": "2022-11-18T08:07:18.573671",
     "exception": false,
     "start_time": "2022-11-18T08:07:15.017196",
     "status": "completed"
    },
    "tags": []
   },
   "outputs": [
    {
     "data": {
      "image/png": "[encoded data removed]",
      "text/plain": [
       "<Figure size 1800x1368 with 2 Axes>"
      ]
     },
     "metadata": {
      "needs_background": "light"
     },
     "output_type": "display_data"
    }
   ],
   "source": [
    "#Heatmap\n",
    "\n",
    "corrmat = urldata.corr()\n",
    "f, ax = plt.subplots(figsize=(25,19))\n",
    "sns.heatmap(corrmat, square=True, annot = True, annot_kws={'size':10})\n",
    "\n",
    "plt.savefig(\"heatmap.png\")"
   ]
  },
  {
   "cell_type": "code",
   "execution_count": 28,
   "id": "1307931a",
   "metadata": {
    "execution": {
     "iopub.execute_input": "2022-11-18T08:07:18.621409Z",
     "iopub.status.busy": "2022-11-18T08:07:18.621000Z",
     "iopub.status.idle": "2022-11-18T08:07:19.238102Z",
     "shell.execute_reply": "2022-11-18T08:07:19.236932Z"
    },
    "papermill": {
     "duration": 0.643885,
     "end_time": "2022-11-18T08:07:19.240789",
     "exception": false,
     "start_time": "2022-11-18T08:07:18.596904",
     "status": "completed"
    },
    "tags": []
   },
   "outputs": [
    {
     "data": {
      "text/plain": [
       "Text(0, 0.5, 'Number Of URLs')"
      ]
     },
     "execution_count": 28,
     "metadata": {},
     "output_type": "execute_result"
    },
    {
     "data": {
      "image/png": "[encoded data removed]",
      "text/plain": [
       "<Figure size 1080x360 with 1 Axes>"
      ]
     },
     "metadata": {
      "needs_background": "light"
     },
     "output_type": "display_data"
    }
   ],
   "source": [
    "plt.figure(figsize=(15,5))\n",
    "sns.countplot(x='label',data=urldata)\n",
    "plt.title(\"Count Of URLs\",fontsize=20)\n",
    "plt.xlabel(\"Type Of URLs\",fontsize=18)\n",
    "plt.ylabel(\"Number Of URLs\",fontsize=18)"
   ]
  },
  {
   "cell_type": "code",
   "execution_count": 29,
   "id": "8afab77d",
   "metadata": {
    "execution": {
     "iopub.execute_input": "2022-11-18T08:07:19.289193Z",
     "iopub.status.busy": "2022-11-18T08:07:19.288777Z",
     "iopub.status.idle": "2022-11-18T08:07:19.455232Z",
     "shell.execute_reply": "2022-11-18T08:07:19.454012Z"
    },
    "papermill": {
     "duration": 0.19368,
     "end_time": "2022-11-18T08:07:19.457517",
     "exception": false,
     "start_time": "2022-11-18T08:07:19.263837",
     "status": "completed"
    },
    "tags": []
   },
   "outputs": [
    {
     "name": "stdout",
     "output_type": "stream",
     "text": [
      "Percent Of Malicious URLs:23.20 %\n",
      "Percent Of Benign URLs:76.80 %\n"
     ]
    }
   ],
   "source": [
    "print(\"Percent Of Malicious URLs:{:.2f} %\".format(len(urldata[urldata['label']=='malicious'])/len(urldata['label'])*100))\n",
    "print(\"Percent Of Benign URLs:{:.2f} %\".format(len(urldata[urldata['label']=='benign'])/len(urldata['label'])*100))"
   ]
  },
  {
   "cell_type": "code",
   "execution_count": 30,
   "id": "aa47ae6e",
   "metadata": {
    "execution": {
     "iopub.execute_input": "2022-11-18T08:07:19.505882Z",
     "iopub.status.busy": "2022-11-18T08:07:19.504809Z",
     "iopub.status.idle": "2022-11-18T08:07:19.838031Z",
     "shell.execute_reply": "2022-11-18T08:07:19.836992Z"
    },
    "papermill": {
     "duration": 0.359786,
     "end_time": "2022-11-18T08:07:19.840668",
     "exception": false,
     "start_time": "2022-11-18T08:07:19.480882",
     "status": "completed"
    },
    "tags": []
   },
   "outputs": [
    {
     "data": {
      "text/plain": [
       "(0.0, 1000.0)"
      ]
     },
     "execution_count": 30,
     "metadata": {},
     "output_type": "execute_result"
    },
    {
     "data": {
      "image/png": "[encoded data removed]",
      "text/plain": [
       "<Figure size 1440x360 with 1 Axes>"
      ]
     },
     "metadata": {
      "needs_background": "light"
     },
     "output_type": "display_data"
    }
   ],
   "source": [
    "plt.figure(figsize=(20,5))\n",
    "plt.hist(urldata['url_length'],bins=50,color='LightBlue')\n",
    "plt.title(\"URL-Length\",fontsize=20)\n",
    "plt.xlabel(\"Url-Length\",fontsize=18)\n",
    "plt.ylabel(\"Number Of Urls\",fontsize=18)\n",
    "plt.ylim(0,1000)"
   ]
  },
  {
   "cell_type": "code",
   "execution_count": 31,
   "id": "3aafcf70",
   "metadata": {
    "execution": {
     "iopub.execute_input": "2022-11-18T08:07:19.891242Z",
     "iopub.status.busy": "2022-11-18T08:07:19.890092Z",
     "iopub.status.idle": "2022-11-18T08:07:20.233959Z",
     "shell.execute_reply": "2022-11-18T08:07:20.232936Z"
    },
    "papermill": {
     "duration": 0.370845,
     "end_time": "2022-11-18T08:07:20.236137",
     "exception": false,
     "start_time": "2022-11-18T08:07:19.865292",
     "status": "completed"
    },
    "tags": []
   },
   "outputs": [
    {
     "data": {
      "text/plain": [
       "(0.0, 1000.0)"
      ]
     },
     "execution_count": 31,
     "metadata": {},
     "output_type": "execute_result"
    },
    {
     "data": {
      "image/png": "[encoded data removed]",
      "text/plain": [
       "<Figure size 1440x360 with 1 Axes>"
      ]
     },
     "metadata": {
      "needs_background": "light"
     },
     "output_type": "display_data"
    }
   ],
   "source": [
    "plt.figure(figsize=(20,5))\n",
    "plt.hist(urldata['hostname_length'],bins=50,color='Lightgreen')\n",
    "plt.title(\"Hostname-Length\",fontsize=20)\n",
    "plt.xlabel(\"Length Of Hostname\",fontsize=18)\n",
    "plt.ylabel(\"Number Of Urls\",fontsize=18)\n",
    "plt.ylim(0,1000)"
   ]
  },
  {
   "cell_type": "code",
   "execution_count": 32,
   "id": "ca19074c",
   "metadata": {
    "execution": {
     "iopub.execute_input": "2022-11-18T08:07:20.286711Z",
     "iopub.status.busy": "2022-11-18T08:07:20.286330Z",
     "iopub.status.idle": "2022-11-18T08:07:20.697140Z",
     "shell.execute_reply": "2022-11-18T08:07:20.695991Z"
    },
    "papermill": {
     "duration": 0.439623,
     "end_time": "2022-11-18T08:07:20.699787",
     "exception": false,
     "start_time": "2022-11-18T08:07:20.260164",
     "status": "completed"
    },
    "tags": []
   },
   "outputs": [
    {
     "data": {
      "text/plain": [
       "Text(0, 0.5, 'Number Of URLs')"
      ]
     },
     "execution_count": 32,
     "metadata": {},
     "output_type": "execute_result"
    },
    {
     "data": {
      "image/png": "[encoded data removed]",
      "text/plain": [
       "<Figure size 1080x360 with 1 Axes>"
      ]
     },
     "metadata": {
      "needs_background": "light"
     },
     "output_type": "display_data"
    }
   ],
   "source": [
    "plt.figure(figsize=(15,5))\n",
    "plt.title(\"Number Of Directories In Url\",fontsize=20)\n",
    "sns.countplot(x='count_dir',data=urldata)\n",
    "plt.xlabel(\"Number Of Directories\",fontsize=18)\n",
    "plt.ylabel(\"Number Of URLs\",fontsize=18)"
   ]
  },
  {
   "cell_type": "code",
   "execution_count": 33,
   "id": "768464e9",
   "metadata": {
    "execution": {
     "iopub.execute_input": "2022-11-18T08:07:20.755219Z",
     "iopub.status.busy": "2022-11-18T08:07:20.753902Z",
     "iopub.status.idle": "2022-11-18T08:07:21.444112Z",
     "shell.execute_reply": "2022-11-18T08:07:21.443053Z"
    },
    "papermill": {
     "duration": 0.721855,
     "end_time": "2022-11-18T08:07:21.446491",
     "exception": false,
     "start_time": "2022-11-18T08:07:20.724636",
     "status": "completed"
    },
    "tags": []
   },
   "outputs": [
    {
     "data": {
      "text/plain": [
       "Text(0, 0.5, 'Number Of URLs')"
      ]
     },
     "execution_count": 33,
     "metadata": {},
     "output_type": "execute_result"
    },
    {
     "data": {
      "image/png": "[encoded data removed]",
      "text/plain": [
       "<Figure size 1080x360 with 1 Axes>"
      ]
     },
     "metadata": {
      "needs_background": "light"
     },
     "output_type": "display_data"
    }
   ],
   "source": [
    "plt.figure(figsize=(15,5))\n",
    "plt.title(\"Number Of Directories In Url\",fontsize=20)\n",
    "sns.countplot(x='count_dir',data=urldata,hue='label')\n",
    "plt.xlabel(\"Number Of Directories\",fontsize=18)\n",
    "plt.ylabel(\"Number Of URLs\",fontsize=18)"
   ]
  },
  {
   "cell_type": "code",
   "execution_count": 34,
   "id": "dce70a40",
   "metadata": {
    "execution": {
     "iopub.execute_input": "2022-11-18T08:07:21.498505Z",
     "iopub.status.busy": "2022-11-18T08:07:21.497504Z",
     "iopub.status.idle": "2022-11-18T08:07:21.738393Z",
     "shell.execute_reply": "2022-11-18T08:07:21.737043Z"
    },
    "papermill": {
     "duration": 0.269735,
     "end_time": "2022-11-18T08:07:21.741240",
     "exception": false,
     "start_time": "2022-11-18T08:07:21.471505",
     "status": "completed"
    },
    "tags": []
   },
   "outputs": [
    {
     "data": {
      "text/plain": [
       "Text(0, 0.5, 'Number of URLs')"
      ]
     },
     "execution_count": 34,
     "metadata": {},
     "output_type": "execute_result"
    },
    {
     "data": {
      "image/png": "[encoded data removed]",
      "text/plain": [
       "<Figure size 1080x360 with 1 Axes>"
      ]
     },
     "metadata": {
      "needs_background": "light"
     },
     "output_type": "display_data"
    }
   ],
   "source": [
    "plt.figure(figsize=(15,5))\n",
    "plt.title(\"Use Of IP In Url\",fontsize=20)\n",
    "plt.xlabel(\"Use Of IP\",fontsize=18)\n",
    "\n",
    "sns.countplot(urldata['use_of_ip'])\n",
    "plt.ylabel(\"Number of URLs\",fontsize=18)"
   ]
  },
  {
   "cell_type": "code",
   "execution_count": 35,
   "id": "a1804a76",
   "metadata": {
    "execution": {
     "iopub.execute_input": "2022-11-18T08:07:21.798327Z",
     "iopub.status.busy": "2022-11-18T08:07:21.797313Z",
     "iopub.status.idle": "2022-11-18T08:07:22.312167Z",
     "shell.execute_reply": "2022-11-18T08:07:22.311076Z"
    },
    "papermill": {
     "duration": 0.546617,
     "end_time": "2022-11-18T08:07:22.314535",
     "exception": false,
     "start_time": "2022-11-18T08:07:21.767918",
     "status": "completed"
    },
    "tags": []
   },
   "outputs": [
    {
     "data": {
      "text/plain": [
       "Text(0, 0.5, 'Number of URLs')"
      ]
     },
     "execution_count": 35,
     "metadata": {},
     "output_type": "execute_result"
    },
    {
     "data": {
      "image/png": "[encoded data removed]",
      "text/plain": [
       "<Figure size 1080x360 with 1 Axes>"
      ]
     },
     "metadata": {
      "needs_background": "light"
     },
     "output_type": "display_data"
    }
   ],
   "source": [
    "plt.figure(figsize=(15,5))\n",
    "plt.title(\"Use Of IP In Url\",fontsize=20)\n",
    "plt.xlabel(\"Use Of IP\",fontsize=18)\n",
    "plt.ylabel(\"Number of URLs\",fontsize=18)\n",
    "sns.countplot(urldata['use_of_ip'],hue='label',data=urldata)\n",
    "plt.ylabel(\"Number of URLs\",fontsize=18)"
   ]
  },
  {
   "cell_type": "code",
   "execution_count": 36,
   "id": "c8cb59f4",
   "metadata": {
    "execution": {
     "iopub.execute_input": "2022-11-18T08:07:22.367601Z",
     "iopub.status.busy": "2022-11-18T08:07:22.366602Z",
     "iopub.status.idle": "2022-11-18T08:07:22.666294Z",
     "shell.execute_reply": "2022-11-18T08:07:22.665073Z"
    },
    "papermill": {
     "duration": 0.328681,
     "end_time": "2022-11-18T08:07:22.668658",
     "exception": false,
     "start_time": "2022-11-18T08:07:22.339977",
     "status": "completed"
    },
    "tags": []
   },
   "outputs": [
    {
     "data": {
      "text/plain": [
       "Text(0, 0.5, 'Number of URLs')"
      ]
     },
     "execution_count": 36,
     "metadata": {},
     "output_type": "execute_result"
    },
    {
     "data": {
      "image/png": "[encoded data removed]",
      "text/plain": [
       "<Figure size 1080x360 with 1 Axes>"
      ]
     },
     "metadata": {
      "needs_background": "light"
     },
     "output_type": "display_data"
    }
   ],
   "source": [
    "plt.figure(figsize=(15,5))\n",
    "plt.title(\"Use Of http In Url\",fontsize=20)\n",
    "plt.xlabel(\"Use Of IP\",fontsize=18)\n",
    "plt.ylim((0,1000))\n",
    "sns.countplot(urldata['count-http'])\n",
    "plt.ylabel(\"Number of URLs\",fontsize=18)"
   ]
  },
  {
   "cell_type": "code",
   "execution_count": 37,
   "id": "1d1e967b",
   "metadata": {
    "execution": {
     "iopub.execute_input": "2022-11-18T08:07:22.725339Z",
     "iopub.status.busy": "2022-11-18T08:07:22.724355Z",
     "iopub.status.idle": "2022-11-18T08:07:23.540377Z",
     "shell.execute_reply": "2022-11-18T08:07:23.539223Z"
    },
    "papermill": {
     "duration": 0.847036,
     "end_time": "2022-11-18T08:07:23.542702",
     "exception": false,
     "start_time": "2022-11-18T08:07:22.695666",
     "status": "completed"
    },
    "tags": []
   },
   "outputs": [
    {
     "data": {
      "text/plain": [
       "Text(0, 0.5, 'Number of URLs')"
      ]
     },
     "execution_count": 37,
     "metadata": {},
     "output_type": "execute_result"
    },
    {
     "data": {
      "image/png": "[encoded data removed]",
      "text/plain": [
       "<Figure size 1080x360 with 1 Axes>"
      ]
     },
     "metadata": {
      "needs_background": "light"
     },
     "output_type": "display_data"
    }
   ],
   "source": [
    "plt.figure(figsize=(15,5))\n",
    "plt.title(\"Use Of http In Url\",fontsize=20)\n",
    "plt.xlabel(\"Count Of http\",fontsize=18)\n",
    "plt.ylabel(\"Number of URLs\",fontsize=18)\n",
    "plt.ylim((0,1000))\n",
    "sns.countplot(urldata['count-http'],hue='label',data=urldata)\n",
    "plt.ylabel(\"Number of URLs\",fontsize=18)"
   ]
  },
  {
   "cell_type": "code",
   "execution_count": 38,
   "id": "bdeb2448",
   "metadata": {
    "execution": {
     "iopub.execute_input": "2022-11-18T08:07:23.599658Z",
     "iopub.status.busy": "2022-11-18T08:07:23.597401Z",
     "iopub.status.idle": "2022-11-18T08:07:24.207217Z",
     "shell.execute_reply": "2022-11-18T08:07:24.206080Z"
    },
    "papermill": {
     "duration": 0.641066,
     "end_time": "2022-11-18T08:07:24.210116",
     "exception": false,
     "start_time": "2022-11-18T08:07:23.569050",
     "status": "completed"
    },
    "tags": []
   },
   "outputs": [
    {
     "data": {
      "text/plain": [
       "Text(0, 0.5, 'Number of URLs')"
      ]
     },
     "execution_count": 38,
     "metadata": {},
     "output_type": "execute_result"
    },
    {
     "data": {
      "image/png": "[encoded data removed]",
      "text/plain": [
       "<Figure size 1080x360 with 1 Axes>"
      ]
     },
     "metadata": {
      "needs_background": "light"
     },
     "output_type": "display_data"
    }
   ],
   "source": [
    "plt.figure(figsize=(15,5))\n",
    "plt.title(\"Use Of http In Url\",fontsize=20)\n",
    "plt.xlabel(\"Count Of http\",fontsize=18)\n",
    "\n",
    "sns.countplot(urldata['count-http'],hue='label',data=urldata)\n",
    "\n",
    "plt.ylabel(\"Number of URLs\",fontsize=18)"
   ]
  },
  {
   "cell_type": "code",
   "execution_count": 39,
   "id": "abe360ef",
   "metadata": {
    "execution": {
     "iopub.execute_input": "2022-11-18T08:07:24.265857Z",
     "iopub.status.busy": "2022-11-18T08:07:24.265463Z",
     "iopub.status.idle": "2022-11-18T08:07:24.543941Z",
     "shell.execute_reply": "2022-11-18T08:07:24.542940Z"
    },
    "papermill": {
     "duration": 0.30957,
     "end_time": "2022-11-18T08:07:24.546422",
     "exception": false,
     "start_time": "2022-11-18T08:07:24.236852",
     "status": "completed"
    },
    "tags": []
   },
   "outputs": [
    {
     "data": {
      "text/plain": [
       "Text(0, 0.5, 'Number Of URLs')"
      ]
     },
     "execution_count": 39,
     "metadata": {},
     "output_type": "execute_result"
    },
    {
     "data": {
      "image/png": "[encoded data removed]",
      "text/plain": [
       "<Figure size 1080x360 with 1 Axes>"
      ]
     },
     "metadata": {
      "needs_background": "light"
     },
     "output_type": "display_data"
    }
   ],
   "source": [
    "plt.figure(figsize=(15,5))\n",
    "plt.title(\"Use Of WWW In URL\",fontsize=20)\n",
    "plt.xlabel(\"Count Of WWW\",fontsize=18)\n",
    "sns.countplot(urldata['count-www'])\n",
    "plt.ylim(0,1000)\n",
    "plt.ylabel(\"Number Of URLs\",fontsize=18)"
   ]
  },
  {
   "cell_type": "code",
   "execution_count": 40,
   "id": "2225953a",
   "metadata": {
    "execution": {
     "iopub.execute_input": "2022-11-18T08:07:24.602055Z",
     "iopub.status.busy": "2022-11-18T08:07:24.601039Z",
     "iopub.status.idle": "2022-11-18T08:07:25.180207Z",
     "shell.execute_reply": "2022-11-18T08:07:25.179026Z"
    },
    "papermill": {
     "duration": 0.609701,
     "end_time": "2022-11-18T08:07:25.182581",
     "exception": false,
     "start_time": "2022-11-18T08:07:24.572880",
     "status": "completed"
    },
    "tags": []
   },
   "outputs": [
    {
     "data": {
      "text/plain": [
       "Text(0, 0.5, 'Number Of URLs')"
      ]
     },
     "execution_count": 40,
     "metadata": {},
     "output_type": "execute_result"
    },
    {
     "data": {
      "image/png": "[encoded data removed]",
      "text/plain": [
       "<Figure size 1080x360 with 1 Axes>"
      ]
     },
     "metadata": {
      "needs_background": "light"
     },
     "output_type": "display_data"
    }
   ],
   "source": [
    "plt.figure(figsize=(15,5))\n",
    "plt.title(\"Use Of WWW In URL\",fontsize=20)\n",
    "plt.xlabel(\"Count Of WWW\",fontsize=18)\n",
    "\n",
    "sns.countplot(urldata['count-www'],hue='label',data=urldata)\n",
    "plt.ylim(0,1000)\n",
    "plt.ylabel(\"Number Of URLs\",fontsize=18)"
   ]
  },
  {
   "cell_type": "markdown",
   "id": "1417b89d",
   "metadata": {
    "papermill": {
     "duration": 0.027252,
     "end_time": "2022-11-18T08:07:25.241182",
     "exception": false,
     "start_time": "2022-11-18T08:07:25.213930",
     "status": "completed"
    },
    "tags": []
   },
   "source": [
    "# ***Building Models***"
   ]
  },
  {
   "cell_type": "code",
   "execution_count": 41,
   "id": "fe81d6ad",
   "metadata": {
    "execution": {
     "iopub.execute_input": "2022-11-18T08:07:25.304614Z",
     "iopub.status.busy": "2022-11-18T08:07:25.303699Z",
     "iopub.status.idle": "2022-11-18T08:07:25.331183Z",
     "shell.execute_reply": "2022-11-18T08:07:25.329919Z"
    },
    "papermill": {
     "duration": 0.062466,
     "end_time": "2022-11-18T08:07:25.333339",
     "exception": false,
     "start_time": "2022-11-18T08:07:25.270873",
     "status": "completed"
    },
    "tags": []
   },
   "outputs": [],
   "source": [
    "#Predictor Variables\n",
    "\n",
    "x = urldata[['hostname_length',\n",
    "       'path_length', 'fd_length', 'tld_length', 'count-', 'count@', 'count?',\n",
    "       'count%', 'count.', 'count=', 'count-http','count-https', 'count-www', 'count-digits',\n",
    "       'count-letters', 'count_dir', 'use_of_ip']]"
   ]
  },
  {
   "cell_type": "code",
   "execution_count": 42,
   "id": "121912de",
   "metadata": {
    "execution": {
     "iopub.execute_input": "2022-11-18T08:07:25.390706Z",
     "iopub.status.busy": "2022-11-18T08:07:25.389706Z",
     "iopub.status.idle": "2022-11-18T08:07:25.395192Z",
     "shell.execute_reply": "2022-11-18T08:07:25.394073Z"
    },
    "papermill": {
     "duration": 0.036579,
     "end_time": "2022-11-18T08:07:25.397593",
     "exception": false,
     "start_time": "2022-11-18T08:07:25.361014",
     "status": "completed"
    },
    "tags": []
   },
   "outputs": [],
   "source": [
    "#Target Variable\n",
    "y = urldata['result']"
   ]
  },
  {
   "cell_type": "code",
   "execution_count": 43,
   "id": "450a0bf4",
   "metadata": {
    "execution": {
     "iopub.execute_input": "2022-11-18T08:07:25.453134Z",
     "iopub.status.busy": "2022-11-18T08:07:25.452732Z",
     "iopub.status.idle": "2022-11-18T08:07:25.459607Z",
     "shell.execute_reply": "2022-11-18T08:07:25.458515Z"
    },
    "papermill": {
     "duration": 0.036834,
     "end_time": "2022-11-18T08:07:25.461739",
     "exception": false,
     "start_time": "2022-11-18T08:07:25.424905",
     "status": "completed"
    },
    "tags": []
   },
   "outputs": [
    {
     "data": {
      "text/plain": [
       "(450176, 17)"
      ]
     },
     "execution_count": 43,
     "metadata": {},
     "output_type": "execute_result"
    }
   ],
   "source": [
    "x.shape"
   ]
  },
  {
   "cell_type": "code",
   "execution_count": 44,
   "id": "41c2c44f",
   "metadata": {
    "execution": {
     "iopub.execute_input": "2022-11-18T08:07:25.518217Z",
     "iopub.status.busy": "2022-11-18T08:07:25.517808Z",
     "iopub.status.idle": "2022-11-18T08:07:25.524603Z",
     "shell.execute_reply": "2022-11-18T08:07:25.523550Z"
    },
    "papermill": {
     "duration": 0.037608,
     "end_time": "2022-11-18T08:07:25.526834",
     "exception": false,
     "start_time": "2022-11-18T08:07:25.489226",
     "status": "completed"
    },
    "tags": []
   },
   "outputs": [
    {
     "data": {
      "text/plain": [
       "(450176,)"
      ]
     },
     "execution_count": 44,
     "metadata": {},
     "output_type": "execute_result"
    }
   ],
   "source": [
    "y.shape"
   ]
  },
  {
   "cell_type": "code",
   "execution_count": 45,
   "id": "cfa907e0",
   "metadata": {
    "execution": {
     "iopub.execute_input": "2022-11-18T08:07:25.586088Z",
     "iopub.status.busy": "2022-11-18T08:07:25.585054Z",
     "iopub.status.idle": "2022-11-18T08:07:25.700828Z",
     "shell.execute_reply": "2022-11-18T08:07:25.699774Z"
    },
    "papermill": {
     "duration": 0.148662,
     "end_time": "2022-11-18T08:07:25.703612",
     "exception": false,
     "start_time": "2022-11-18T08:07:25.554950",
     "status": "completed"
    },
    "tags": []
   },
   "outputs": [],
   "source": [
    "#Splitting the data into Training and Testing\n",
    "\n",
    "x_train, x_test, y_train, y_test = train_test_split(x, y, train_size=0.3, random_state=42)"
   ]
  },
  {
   "cell_type": "code",
   "execution_count": 46,
   "id": "eae4bf58",
   "metadata": {
    "execution": {
     "iopub.execute_input": "2022-11-18T08:07:25.762193Z",
     "iopub.status.busy": "2022-11-18T08:07:25.761784Z",
     "iopub.status.idle": "2022-11-18T08:07:25.766444Z",
     "shell.execute_reply": "2022-11-18T08:07:25.765187Z"
    },
    "papermill": {
     "duration": 0.036549,
     "end_time": "2022-11-18T08:07:25.768748",
     "exception": false,
     "start_time": "2022-11-18T08:07:25.732199",
     "status": "completed"
    },
    "tags": []
   },
   "outputs": [],
   "source": [
    "model_accuracy = {}"
   ]
  },
  {
   "cell_type": "code",
   "execution_count": 47,
   "id": "1d869ee3",
   "metadata": {
    "execution": {
     "iopub.execute_input": "2022-11-18T08:07:25.829239Z",
     "iopub.status.busy": "2022-11-18T08:07:25.828839Z",
     "iopub.status.idle": "2022-11-18T08:07:25.835845Z",
     "shell.execute_reply": "2022-11-18T08:07:25.834800Z"
    },
    "papermill": {
     "duration": 0.038655,
     "end_time": "2022-11-18T08:07:25.837989",
     "exception": false,
     "start_time": "2022-11-18T08:07:25.799334",
     "status": "completed"
    },
    "tags": []
   },
   "outputs": [],
   "source": [
    "from sklearn.model_selection import cross_validate\n",
    "def cross_validation(model, _X, _y, _cv):\n",
    "    _scoring = ['accuracy']\n",
    "    results = cross_validate(estimator=model,\n",
    "                               X=_X,\n",
    "                               y=_y,\n",
    "                               cv=_cv,\n",
    "                               scoring=_scoring,\n",
    "                               return_train_score=True)\n",
    "    print(\"Training Accuracy scores\", results['train_accuracy']*100)\n",
    "    print(\"\\nMean Training Accuracy\", results['train_accuracy'].mean()*100)\n",
    "    print(\"\\nValidation Accuracy scores\", results['test_accuracy'])\n",
    "    print(\"\\nMean Validation Accuracy\", results['test_accuracy'].mean()*100)\n",
    "\n",
    "    \n",
    "      \n",
    "#     return {\"Training Accuracy scores\": results['train_accuracy'],\n",
    "#               \"Mean Training Accuracy\": results['train_accuracy'].mean()*100,\n",
    "#               \"Training Precision scores\": results['train_precision'],\n",
    "#               \"Mean Training Precision\": results['train_precision'].mean(),\n",
    "#               \"Training Recall scores\": results['train_recall'],\n",
    "#               \"\\nMean Training Recall\": results['train_recall'].mean(),\n",
    "#               \"\\nTraining F1 scores\": results['train_f1'],\n",
    "#               \"\\nMean Training F1 Score\": results['train_f1'].mean(),\n",
    "#               \"\\nValidation Accuracy scores\": results['test_accuracy'],\n",
    "#               \"\\nMean Validation Accuracy\": results['test_accuracy'].mean()*100,\n",
    "#               \"\\nValidation Precision scores\": results['test_precision'],\n",
    "#               \"\\nMean Validation Precision\": results['test_precision'].mean(),\n",
    "#               \"\\nValidation Recall scores\": results['test_recall'],\n",
    "#               \"\\nMean Validation Recall\": results['test_recall'].mean(),\n",
    "#               \"\\nValidation F1 scores\": results['test_f1'],\n",
    "#               \"\\nMean Validation F1 Score\": results['test_f1'].mean()\n",
    "              "
   ]
  },
  {
   "cell_type": "markdown",
   "id": "3a68c4e9",
   "metadata": {
    "papermill": {
     "duration": 0.027356,
     "end_time": "2022-11-18T08:07:25.892886",
     "exception": false,
     "start_time": "2022-11-18T08:07:25.865530",
     "status": "completed"
    },
    "tags": []
   },
   "source": [
    "## 1. Logistic Regression\n",
    " "
   ]
  },
  {
   "cell_type": "code",
   "execution_count": 48,
   "id": "ab07eae5",
   "metadata": {
    "execution": {
     "iopub.execute_input": "2022-11-18T08:07:25.950275Z",
     "iopub.status.busy": "2022-11-18T08:07:25.949276Z",
     "iopub.status.idle": "2022-11-18T08:07:28.029278Z",
     "shell.execute_reply": "2022-11-18T08:07:28.028155Z"
    },
    "papermill": {
     "duration": 2.114691,
     "end_time": "2022-11-18T08:07:28.035108",
     "exception": false,
     "start_time": "2022-11-18T08:07:25.920417",
     "status": "completed"
    },
    "tags": []
   },
   "outputs": [
    {
     "name": "stdout",
     "output_type": "stream",
     "text": [
      "0.9957730924969218 \n",
      "\n",
      "\n",
      "\n",
      "CPU times: user 3.11 s, sys: 948 ms, total: 4.05 s\n",
      "Wall time: 2.07 s\n"
     ]
    }
   ],
   "source": [
    "%%time\n",
    "\n",
    "log_reg_model = LogisticRegression()\n",
    "log_reg_model.fit(x_train,y_train)\n",
    "\n",
    "log_reg_predictions = log_reg_model.predict(x_test)\n",
    "\n",
    "\n",
    "print(accuracy_score(y_test, log_reg_predictions), \"\\n\\n\\n\")"
   ]
  },
  {
   "cell_type": "code",
   "execution_count": 49,
   "id": "a3613489",
   "metadata": {
    "execution": {
     "iopub.execute_input": "2022-11-18T08:07:28.139172Z",
     "iopub.status.busy": "2022-11-18T08:07:28.138704Z",
     "iopub.status.idle": "2022-11-18T08:07:28.143410Z",
     "shell.execute_reply": "2022-11-18T08:07:28.142359Z"
    },
    "papermill": {
     "duration": 0.041777,
     "end_time": "2022-11-18T08:07:28.145798",
     "exception": false,
     "start_time": "2022-11-18T08:07:28.104021",
     "status": "completed"
    },
    "tags": []
   },
   "outputs": [],
   "source": [
    "# x_test"
   ]
  },
  {
   "cell_type": "code",
   "execution_count": 50,
   "id": "29269f76",
   "metadata": {
    "execution": {
     "iopub.execute_input": "2022-11-18T08:07:28.204520Z",
     "iopub.status.busy": "2022-11-18T08:07:28.203455Z",
     "iopub.status.idle": "2022-11-18T08:07:28.208966Z",
     "shell.execute_reply": "2022-11-18T08:07:28.207902Z"
    },
    "papermill": {
     "duration": 0.037025,
     "end_time": "2022-11-18T08:07:28.210980",
     "exception": false,
     "start_time": "2022-11-18T08:07:28.173955",
     "status": "completed"
    },
    "tags": []
   },
   "outputs": [],
   "source": [
    "# y_test"
   ]
  },
  {
   "cell_type": "code",
   "execution_count": 51,
   "id": "2be99a03",
   "metadata": {
    "execution": {
     "iopub.execute_input": "2022-11-18T08:07:28.270641Z",
     "iopub.status.busy": "2022-11-18T08:07:28.270247Z",
     "iopub.status.idle": "2022-11-18T08:07:28.275138Z",
     "shell.execute_reply": "2022-11-18T08:07:28.274037Z"
    },
    "papermill": {
     "duration": 0.036771,
     "end_time": "2022-11-18T08:07:28.277351",
     "exception": false,
     "start_time": "2022-11-18T08:07:28.240580",
     "status": "completed"
    },
    "tags": []
   },
   "outputs": [],
   "source": [
    "# print(confusion_matrix(y_test,log_reg_model))"
   ]
  },
  {
   "cell_type": "code",
   "execution_count": 52,
   "id": "2a90efc6",
   "metadata": {
    "execution": {
     "iopub.execute_input": "2022-11-18T08:07:28.334541Z",
     "iopub.status.busy": "2022-11-18T08:07:28.333524Z",
     "iopub.status.idle": "2022-11-18T08:07:29.407262Z",
     "shell.execute_reply": "2022-11-18T08:07:29.406166Z"
    },
    "papermill": {
     "duration": 1.105038,
     "end_time": "2022-11-18T08:07:29.409952",
     "exception": false,
     "start_time": "2022-11-18T08:07:28.304914",
     "status": "completed"
    },
    "tags": []
   },
   "outputs": [
    {
     "name": "stdout",
     "output_type": "stream",
     "text": [
      "Training Accuracy : 0.9959571128158042\n",
      "Testing Accuracy : 0.9957730924969218\n",
      "\n",
      "CLASSIFICATION REPORT\n",
      "\n",
      "              precision    recall  f1-score   support\n",
      "\n",
      "         Bad       1.00      1.00      1.00    242154\n",
      "        Good       0.99      0.99      0.99     72970\n",
      "\n",
      "    accuracy                           1.00    315124\n",
      "   macro avg       0.99      0.99      0.99    315124\n",
      "weighted avg       1.00      1.00      1.00    315124\n",
      "\n",
      "\n",
      "CONFUSION MATRIX\n"
     ]
    },
    {
     "data": {
      "text/plain": [
       "<AxesSubplot:>"
      ]
     },
     "execution_count": 52,
     "metadata": {},
     "output_type": "execute_result"
    },
    {
     "data": {
      "image/png": "[encoded data removed]",
      "text/plain": [
       "<Figure size 432x288 with 2 Axes>"
      ]
     },
     "metadata": {
      "needs_background": "light"
     },
     "output_type": "display_data"
    }
   ],
   "source": [
    "print('Training Accuracy :',log_reg_model.score(x_train,y_train))\n",
    "print('Testing Accuracy :',log_reg_model.score(x_test,y_test))\n",
    "\n",
    "con_mat = pd.DataFrame(confusion_matrix(log_reg_model.predict(x_test), y_test),\n",
    "            columns = ['Predicted:Bad', 'Predicted:Good'],\n",
    "            index = ['Actual:Bad', 'Actual:Good'])\n",
    "\n",
    "\n",
    "print('\\nCLASSIFICATION REPORT\\n')\n",
    "print(classification_report(log_reg_model.predict(x_test), y_test,\n",
    "                            target_names =['Bad','Good']))\n",
    "\n",
    "print('\\nCONFUSION MATRIX')\n",
    "plt.figure(figsize= (6,4))\n",
    "sns.heatmap(con_mat, annot = True,fmt='d',cmap=\"YlGnBu\")"
   ]
  },
  {
   "cell_type": "code",
   "execution_count": 53,
   "id": "e74d4810",
   "metadata": {
    "execution": {
     "iopub.execute_input": "2022-11-18T08:07:29.472602Z",
     "iopub.status.busy": "2022-11-18T08:07:29.470787Z",
     "iopub.status.idle": "2022-11-18T08:07:29.552107Z",
     "shell.execute_reply": "2022-11-18T08:07:29.550584Z"
    },
    "papermill": {
     "duration": 0.116245,
     "end_time": "2022-11-18T08:07:29.555870",
     "exception": false,
     "start_time": "2022-11-18T08:07:29.439625",
     "status": "completed"
    },
    "tags": []
   },
   "outputs": [],
   "source": [
    "model_accuracy['Logistic Regression'] = log_reg_model.score(x_test,y_test)"
   ]
  },
  {
   "cell_type": "code",
   "execution_count": 54,
   "id": "c108b9eb",
   "metadata": {
    "execution": {
     "iopub.execute_input": "2022-11-18T08:07:29.661926Z",
     "iopub.status.busy": "2022-11-18T08:07:29.661546Z",
     "iopub.status.idle": "2022-11-18T08:07:29.667131Z",
     "shell.execute_reply": "2022-11-18T08:07:29.666090Z"
    },
    "papermill": {
     "duration": 0.042662,
     "end_time": "2022-11-18T08:07:29.669354",
     "exception": false,
     "start_time": "2022-11-18T08:07:29.626692",
     "status": "completed"
    },
    "tags": []
   },
   "outputs": [],
   "source": [
    "pickle.dump(log_reg_model, open('Model_det_LR.pkl', 'wb'))"
   ]
  },
  {
   "cell_type": "code",
   "execution_count": 55,
   "id": "b6613979",
   "metadata": {
    "execution": {
     "iopub.execute_input": "2022-11-18T08:07:29.731246Z",
     "iopub.status.busy": "2022-11-18T08:07:29.730167Z",
     "iopub.status.idle": "2022-11-18T08:07:48.918956Z",
     "shell.execute_reply": "2022-11-18T08:07:48.917753Z"
    },
    "papermill": {
     "duration": 19.224397,
     "end_time": "2022-11-18T08:07:48.923252",
     "exception": false,
     "start_time": "2022-11-18T08:07:29.698855",
     "status": "completed"
    },
    "tags": []
   },
   "outputs": [
    {
     "name": "stdout",
     "output_type": "stream",
     "text": [
      "Training Accuracy scores [99.59192405 99.59603771 99.57218195 99.59439558 99.59933195 99.60426831\n",
      " 99.59933195 99.59686376 99.60180013 99.60180013]\n",
      "\n",
      "Mean Training Accuracy 99.59579355143424\n",
      "\n",
      "Validation Accuracy scores [0.99681623 0.99548349 0.99592743 0.99622362 0.99585339 0.9955572\n",
      " 0.99577934 0.99614957 0.99592743 0.99563125]\n",
      "\n",
      "Mean Validation Accuracy 99.59348959665408\n"
     ]
    }
   ],
   "source": [
    "cross_validation(log_reg_model, x_train,y_train, 10)"
   ]
  },
  {
   "cell_type": "markdown",
   "id": "f1a5456e",
   "metadata": {
    "papermill": {
     "duration": 0.046255,
     "end_time": "2022-11-18T08:07:49.047285",
     "exception": false,
     "start_time": "2022-11-18T08:07:49.001030",
     "status": "completed"
    },
    "tags": []
   },
   "source": [
    "## 2. Decision Tree"
   ]
  },
  {
   "cell_type": "code",
   "execution_count": 56,
   "id": "7b33f1e1",
   "metadata": {
    "execution": {
     "iopub.execute_input": "2022-11-18T08:07:49.105626Z",
     "iopub.status.busy": "2022-11-18T08:07:49.105223Z",
     "iopub.status.idle": "2022-11-18T08:07:50.147568Z",
     "shell.execute_reply": "2022-11-18T08:07:50.144892Z"
    },
    "papermill": {
     "duration": 1.075051,
     "end_time": "2022-11-18T08:07:50.150785",
     "exception": false,
     "start_time": "2022-11-18T08:07:49.075734",
     "status": "completed"
    },
    "tags": []
   },
   "outputs": [
    {
     "name": "stdout",
     "output_type": "stream",
     "text": [
      "0.995293916045747 \n",
      "\n",
      "\n",
      "\n",
      "CPU times: user 1.03 s, sys: 935 µs, total: 1.04 s\n",
      "Wall time: 1.03 s\n"
     ]
    }
   ],
   "source": [
    "%%time\n",
    "\n",
    "dt_model = DecisionTreeClassifier()\n",
    "dt_model.fit(x_train,y_train)\n",
    "\n",
    "dt_predictions = dt_model.predict(x_test)\n",
    "\n",
    "print(accuracy_score(y_test, dt_predictions), \"\\n\\n\\n\")"
   ]
  },
  {
   "cell_type": "code",
   "execution_count": 57,
   "id": "e2550e1d",
   "metadata": {
    "execution": {
     "iopub.execute_input": "2022-11-18T08:07:50.211534Z",
     "iopub.status.busy": "2022-11-18T08:07:50.210459Z",
     "iopub.status.idle": "2022-11-18T08:07:50.216050Z",
     "shell.execute_reply": "2022-11-18T08:07:50.214977Z"
    },
    "papermill": {
     "duration": 0.037962,
     "end_time": "2022-11-18T08:07:50.218414",
     "exception": false,
     "start_time": "2022-11-18T08:07:50.180452",
     "status": "completed"
    },
    "tags": []
   },
   "outputs": [],
   "source": [
    "# print(confusion_matrix(y_test,dt_predictions))"
   ]
  },
  {
   "cell_type": "code",
   "execution_count": 58,
   "id": "6b91123a",
   "metadata": {
    "execution": {
     "iopub.execute_input": "2022-11-18T08:07:50.278759Z",
     "iopub.status.busy": "2022-11-18T08:07:50.277603Z",
     "iopub.status.idle": "2022-11-18T08:07:51.220941Z",
     "shell.execute_reply": "2022-11-18T08:07:51.219900Z"
    },
    "papermill": {
     "duration": 0.976548,
     "end_time": "2022-11-18T08:07:51.223323",
     "exception": false,
     "start_time": "2022-11-18T08:07:50.246775",
     "status": "completed"
    },
    "tags": []
   },
   "outputs": [
    {
     "name": "stdout",
     "output_type": "stream",
     "text": [
      "Training Accuracy : 0.9995187039066433\n",
      "Testing Accuracy : 0.995293916045747\n",
      "\n",
      "CLASSIFICATION REPORT\n",
      "\n",
      "              precision    recall  f1-score   support\n",
      "\n",
      "         Bad       1.00      1.00      1.00    241897\n",
      "        Good       0.99      0.99      0.99     73227\n",
      "\n",
      "    accuracy                           1.00    315124\n",
      "   macro avg       0.99      0.99      0.99    315124\n",
      "weighted avg       1.00      1.00      1.00    315124\n",
      "\n",
      "\n",
      "CONFUSION MATRIX\n"
     ]
    },
    {
     "data": {
      "text/plain": [
       "<AxesSubplot:>"
      ]
     },
     "execution_count": 58,
     "metadata": {},
     "output_type": "execute_result"
    },
    {
     "data": {
      "image/png": "[encoded data removed]",
      "text/plain": [
       "<Figure size 432x288 with 2 Axes>"
      ]
     },
     "metadata": {
      "needs_background": "light"
     },
     "output_type": "display_data"
    }
   ],
   "source": [
    "print('Training Accuracy :',dt_model.score(x_train,y_train))\n",
    "print('Testing Accuracy :',dt_model.score(x_test,y_test))\n",
    "\n",
    "con_mat = pd.DataFrame(confusion_matrix(dt_model.predict(x_test), y_test),\n",
    "            columns = ['Predicted:Bad', 'Predicted:Good'],\n",
    "            index = ['Actual:Bad', 'Actual:Good'])\n",
    "\n",
    "\n",
    "print('\\nCLASSIFICATION REPORT\\n')\n",
    "print(classification_report(dt_model.predict(x_test), y_test,\n",
    "                            target_names =['Bad','Good']))\n",
    "\n",
    "print('\\nCONFUSION MATRIX')\n",
    "plt.figure(figsize= (6,4))\n",
    "sns.heatmap(con_mat, annot = True,fmt='d',cmap=\"YlGnBu\")"
   ]
  },
  {
   "cell_type": "code",
   "execution_count": 59,
   "id": "dc0b8a84",
   "metadata": {
    "execution": {
     "iopub.execute_input": "2022-11-18T08:07:51.283378Z",
     "iopub.status.busy": "2022-11-18T08:07:51.282955Z",
     "iopub.status.idle": "2022-11-18T08:07:51.358695Z",
     "shell.execute_reply": "2022-11-18T08:07:51.357597Z"
    },
    "papermill": {
     "duration": 0.110065,
     "end_time": "2022-11-18T08:07:51.361660",
     "exception": false,
     "start_time": "2022-11-18T08:07:51.251595",
     "status": "completed"
    },
    "tags": []
   },
   "outputs": [],
   "source": [
    "model_accuracy['Decision Tree'] = dt_model.score(x_test,y_test)"
   ]
  },
  {
   "cell_type": "code",
   "execution_count": 60,
   "id": "67353a49",
   "metadata": {
    "execution": {
     "iopub.execute_input": "2022-11-18T08:07:51.422612Z",
     "iopub.status.busy": "2022-11-18T08:07:51.421613Z",
     "iopub.status.idle": "2022-11-18T08:08:00.265917Z",
     "shell.execute_reply": "2022-11-18T08:08:00.264200Z"
    },
    "papermill": {
     "duration": 8.87855,
     "end_time": "2022-11-18T08:08:00.269456",
     "exception": false,
     "start_time": "2022-11-18T08:07:51.390906",
     "status": "completed"
    },
    "tags": []
   },
   "outputs": [
    {
     "name": "stdout",
     "output_type": "stream",
     "text": [
      "Training Accuracy scores [99.95063597 99.95063597 99.95392729 99.94981365 99.95310456 99.95392729\n",
      " 99.95557274 99.95145911 99.9572182  99.95310456]\n",
      "\n",
      "Mean Training Accuracy 99.95293993374742\n",
      "\n",
      "Validation Accuracy scores [0.99563157 0.99592774 0.99570529 0.99622362 0.99489078 0.99548315\n",
      " 0.99533506 0.99585339 0.99533506 0.99511292]\n",
      "\n",
      "Mean Validation Accuracy 99.55498588722179\n"
     ]
    }
   ],
   "source": [
    "cross_validation(dt_model, x_train,y_train, 10)"
   ]
  },
  {
   "cell_type": "markdown",
   "id": "ee6fba05",
   "metadata": {
    "papermill": {
     "duration": 0.027866,
     "end_time": "2022-11-18T08:08:00.329152",
     "exception": false,
     "start_time": "2022-11-18T08:08:00.301286",
     "status": "completed"
    },
    "tags": []
   },
   "source": [
    "## 3. Random Forest"
   ]
  },
  {
   "cell_type": "code",
   "execution_count": 61,
   "id": "af8ead62",
   "metadata": {
    "execution": {
     "iopub.execute_input": "2022-11-18T08:08:00.387667Z",
     "iopub.status.busy": "2022-11-18T08:08:00.387246Z",
     "iopub.status.idle": "2022-11-18T08:08:24.933358Z",
     "shell.execute_reply": "2022-11-18T08:08:24.931461Z"
    },
    "papermill": {
     "duration": 24.57869,
     "end_time": "2022-11-18T08:08:24.936114",
     "exception": false,
     "start_time": "2022-11-18T08:08:00.357424",
     "status": "completed"
    },
    "tags": []
   },
   "outputs": [
    {
     "name": "stdout",
     "output_type": "stream",
     "text": [
      "0.997274088930072 \n",
      "\n",
      "\n",
      "\n",
      "CPU times: user 24.4 s, sys: 23.5 ms, total: 24.5 s\n",
      "Wall time: 24.5 s\n"
     ]
    }
   ],
   "source": [
    "%%time\n",
    "\n",
    "rfc = RandomForestClassifier()\n",
    "rfc.fit(x_train, y_train)\n",
    "\n",
    "rfc_predictions = rfc.predict(x_test)\n",
    "accuracy_score(y_test, rfc_predictions)\n",
    "\n",
    "\n",
    "print(accuracy_score(y_test, rfc_predictions), \"\\n\\n\\n\")"
   ]
  },
  {
   "cell_type": "code",
   "execution_count": 62,
   "id": "2b6ba6e5",
   "metadata": {
    "execution": {
     "iopub.execute_input": "2022-11-18T08:08:25.001652Z",
     "iopub.status.busy": "2022-11-18T08:08:25.001239Z",
     "iopub.status.idle": "2022-11-18T08:08:25.008067Z",
     "shell.execute_reply": "2022-11-18T08:08:25.006972Z"
    },
    "papermill": {
     "duration": 0.042615,
     "end_time": "2022-11-18T08:08:25.010527",
     "exception": false,
     "start_time": "2022-11-18T08:08:24.967912",
     "status": "completed"
    },
    "tags": []
   },
   "outputs": [],
   "source": [
    "# print(confusion_matrix(y_test,rfc_predictions))"
   ]
  },
  {
   "cell_type": "code",
   "execution_count": 63,
   "id": "db4d7a86",
   "metadata": {
    "execution": {
     "iopub.execute_input": "2022-11-18T08:08:25.075524Z",
     "iopub.status.busy": "2022-11-18T08:08:25.075136Z",
     "iopub.status.idle": "2022-11-18T08:08:40.647032Z",
     "shell.execute_reply": "2022-11-18T08:08:40.645983Z"
    },
    "papermill": {
     "duration": 15.607316,
     "end_time": "2022-11-18T08:08:40.649470",
     "exception": false,
     "start_time": "2022-11-18T08:08:25.042154",
     "status": "completed"
    },
    "tags": []
   },
   "outputs": [
    {
     "name": "stdout",
     "output_type": "stream",
     "text": [
      "Training Accuracy : 0.9995187039066433\n",
      "Testing Accuracy : 0.997274088930072\n",
      "\n",
      "CLASSIFICATION REPORT\n",
      "\n",
      "              precision    recall  f1-score   support\n",
      "\n",
      "         Bad       1.00      1.00      1.00    242249\n",
      "        Good       0.99      1.00      0.99     72875\n",
      "\n",
      "    accuracy                           1.00    315124\n",
      "   macro avg       1.00      1.00      1.00    315124\n",
      "weighted avg       1.00      1.00      1.00    315124\n",
      "\n",
      "\n",
      "CONFUSION MATRIX\n"
     ]
    },
    {
     "data": {
      "text/plain": [
       "<AxesSubplot:>"
      ]
     },
     "execution_count": 63,
     "metadata": {},
     "output_type": "execute_result"
    },
    {
     "data": {
      "image/png": "[encoded data removed]",
      "text/plain": [
       "<Figure size 432x288 with 2 Axes>"
      ]
     },
     "metadata": {
      "needs_background": "light"
     },
     "output_type": "display_data"
    }
   ],
   "source": [
    "print('Training Accuracy :',rfc.score(x_train,y_train))\n",
    "print('Testing Accuracy :',rfc.score(x_test,y_test))\n",
    "\n",
    "con_mat = pd.DataFrame(confusion_matrix(rfc.predict(x_test), y_test),\n",
    "            columns = ['Predicted:Bad', 'Predicted:Good'],\n",
    "            index = ['Actual:Bad', 'Actual:Good'])\n",
    "\n",
    "\n",
    "print('\\nCLASSIFICATION REPORT\\n')\n",
    "print(classification_report(rfc.predict(x_test), y_test,\n",
    "                            target_names =['Bad','Good']))\n",
    "\n",
    "print('\\nCONFUSION MATRIX')\n",
    "plt.figure(figsize= (6,4))\n",
    "sns.heatmap(con_mat, annot = True,fmt='d',cmap=\"YlGnBu\")"
   ]
  },
  {
   "cell_type": "code",
   "execution_count": 64,
   "id": "2fca8819",
   "metadata": {
    "execution": {
     "iopub.execute_input": "2022-11-18T08:08:40.711795Z",
     "iopub.status.busy": "2022-11-18T08:08:40.711403Z",
     "iopub.status.idle": "2022-11-18T08:08:44.793867Z",
     "shell.execute_reply": "2022-11-18T08:08:44.792457Z"
    },
    "papermill": {
     "duration": 4.116446,
     "end_time": "2022-11-18T08:08:44.796516",
     "exception": false,
     "start_time": "2022-11-18T08:08:40.680070",
     "status": "completed"
    },
    "tags": []
   },
   "outputs": [],
   "source": [
    "model_accuracy['Random Forest'] = rfc.score(x_test,y_test)"
   ]
  },
  {
   "cell_type": "code",
   "execution_count": 65,
   "id": "0e311106",
   "metadata": {
    "execution": {
     "iopub.execute_input": "2022-11-18T08:08:44.862357Z",
     "iopub.status.busy": "2022-11-18T08:08:44.861567Z",
     "iopub.status.idle": "2022-11-18T08:11:57.750811Z",
     "shell.execute_reply": "2022-11-18T08:11:57.749500Z"
    },
    "papermill": {
     "duration": 192.957753,
     "end_time": "2022-11-18T08:11:57.786910",
     "exception": false,
     "start_time": "2022-11-18T08:08:44.829157",
     "status": "completed"
    },
    "tags": []
   },
   "outputs": [
    {
     "name": "stdout",
     "output_type": "stream",
     "text": [
      "Training Accuracy scores [99.95063597 99.95063597 99.95392729 99.94981365 99.95310456 99.95392729\n",
      " 99.95557274 99.95145911 99.9572182  99.95228183]\n",
      "\n",
      "Mean Training Accuracy 99.95285766104631\n",
      "\n",
      "Validation Accuracy scores [0.9974826  0.99726048 0.99763051 0.99763051 0.99726027 0.99726027\n",
      " 0.99689004 0.99733432 0.99711218 0.99659385]\n",
      "\n",
      "Mean Validation Accuracy 99.72455035684773\n"
     ]
    }
   ],
   "source": [
    "cross_validation(rfc, x_train,y_train, 10)"
   ]
  },
  {
   "cell_type": "markdown",
   "id": "8a1ad1af",
   "metadata": {
    "papermill": {
     "duration": 0.057459,
     "end_time": "2022-11-18T08:11:57.900231",
     "exception": false,
     "start_time": "2022-11-18T08:11:57.842772",
     "status": "completed"
    },
    "tags": []
   },
   "source": [
    "## 4. Support Vector Classifier"
   ]
  },
  {
   "cell_type": "code",
   "execution_count": 66,
   "id": "331effe7",
   "metadata": {
    "execution": {
     "iopub.execute_input": "2022-11-18T08:11:58.012198Z",
     "iopub.status.busy": "2022-11-18T08:11:58.011722Z",
     "iopub.status.idle": "2022-11-18T08:17:01.064099Z",
     "shell.execute_reply": "2022-11-18T08:17:01.062966Z"
    },
    "papermill": {
     "duration": 303.141889,
     "end_time": "2022-11-18T08:17:01.098248",
     "exception": false,
     "start_time": "2022-11-18T08:11:57.956359",
     "status": "completed"
    },
    "tags": []
   },
   "outputs": [
    {
     "name": "stdout",
     "output_type": "stream",
     "text": [
      "0.9966172046559449 \n",
      "\n",
      "\n",
      "\n",
      "CPU times: user 5min 1s, sys: 390 ms, total: 5min 1s\n",
      "Wall time: 5min 3s\n"
     ]
    }
   ],
   "source": [
    "%%time\n",
    "\n",
    "svc = SVC(kernel='linear')\n",
    "\n",
    "svc.fit(x_train, y_train) \n",
    "svc_prediction = svc.predict(x_test)\n",
    "\n",
    "\n",
    "\n",
    "print(accuracy_score(y_test, svc_prediction),\"\\n\\n\\n\" )\n"
   ]
  },
  {
   "cell_type": "code",
   "execution_count": 67,
   "id": "a5fc5ac8",
   "metadata": {
    "execution": {
     "iopub.execute_input": "2022-11-18T08:17:01.238877Z",
     "iopub.status.busy": "2022-11-18T08:17:01.237727Z",
     "iopub.status.idle": "2022-11-18T08:17:44.767194Z",
     "shell.execute_reply": "2022-11-18T08:17:44.765952Z"
    },
    "papermill": {
     "duration": 43.639767,
     "end_time": "2022-11-18T08:17:44.769851",
     "exception": false,
     "start_time": "2022-11-18T08:17:01.130084",
     "status": "completed"
    },
    "tags": []
   },
   "outputs": [
    {
     "name": "stdout",
     "output_type": "stream",
     "text": [
      "Training Accuracy : 0.9966309273465036\n",
      "Testing Accuracy : 0.9966172046559449\n",
      "\n",
      "CLASSIFICATION REPORT\n",
      "\n",
      "              precision    recall  f1-score   support\n",
      "\n",
      "         Bad       1.00      1.00      1.00    242000\n",
      "        Good       0.99      0.99      0.99     73124\n",
      "\n",
      "    accuracy                           1.00    315124\n",
      "   macro avg       1.00      1.00      1.00    315124\n",
      "weighted avg       1.00      1.00      1.00    315124\n",
      "\n",
      "\n",
      "CONFUSION MATRIX\n"
     ]
    },
    {
     "data": {
      "text/plain": [
       "<AxesSubplot:>"
      ]
     },
     "execution_count": 67,
     "metadata": {},
     "output_type": "execute_result"
    },
    {
     "data": {
      "image/png": "[encoded data removed]",
      "text/plain": [
       "<Figure size 432x288 with 2 Axes>"
      ]
     },
     "metadata": {
      "needs_background": "light"
     },
     "output_type": "display_data"
    }
   ],
   "source": [
    "print('Training Accuracy :',svc.score(x_train,y_train))\n",
    "print('Testing Accuracy :',svc.score(x_test,y_test))\n",
    "\n",
    "con_mat = pd.DataFrame(confusion_matrix(svc.predict(x_test), y_test),\n",
    "            columns = ['Predicted:Bad', 'Predicted:Good'],\n",
    "            index = ['Actual:Bad', 'Actual:Good'])\n",
    "\n",
    "\n",
    "print('\\nCLASSIFICATION REPORT\\n')\n",
    "print(classification_report(svc.predict(x_test), y_test,\n",
    "                            target_names =['Bad','Good']))\n",
    "\n",
    "print('\\nCONFUSION MATRIX')\n",
    "plt.figure(figsize= (6,4))\n",
    "sns.heatmap(con_mat, annot = True,fmt='d',cmap=\"YlGnBu\")"
   ]
  },
  {
   "cell_type": "code",
   "execution_count": 68,
   "id": "3dfdb154",
   "metadata": {
    "execution": {
     "iopub.execute_input": "2022-11-18T08:17:44.845381Z",
     "iopub.status.busy": "2022-11-18T08:17:44.845023Z",
     "iopub.status.idle": "2022-11-18T08:17:57.065034Z",
     "shell.execute_reply": "2022-11-18T08:17:57.063945Z"
    },
    "papermill": {
     "duration": 12.254524,
     "end_time": "2022-11-18T08:17:57.067671",
     "exception": false,
     "start_time": "2022-11-18T08:17:44.813147",
     "status": "completed"
    },
    "tags": []
   },
   "outputs": [],
   "source": [
    "model_accuracy['Support Vector Classifier'] = svc.score(x_test,y_test)"
   ]
  },
  {
   "cell_type": "code",
   "execution_count": 69,
   "id": "e6a2b9aa",
   "metadata": {
    "execution": {
     "iopub.execute_input": "2022-11-18T08:17:57.129749Z",
     "iopub.status.busy": "2022-11-18T08:17:57.129376Z",
     "iopub.status.idle": "2022-11-18T08:58:07.393445Z",
     "shell.execute_reply": "2022-11-18T08:58:07.392216Z"
    },
    "papermill": {
     "duration": 2410.333859,
     "end_time": "2022-11-18T08:58:07.431756",
     "exception": false,
     "start_time": "2022-11-18T08:17:57.097897",
     "status": "completed"
    },
    "tags": []
   },
   "outputs": [
    {
     "name": "stdout",
     "output_type": "stream",
     "text": [
      "Training Accuracy scores [99.65362908 99.65938822 99.65445466 99.65363193 99.66432738 99.66597283\n",
      " 99.66432738 99.66268193 99.66103647 99.66761829]\n",
      "\n",
      "Mean Training Accuracy 99.66070681548477\n",
      "\n",
      "Validation Accuracy scores [0.99696431 0.99644602 0.99740837 0.99696409 0.99651981 0.99637171\n",
      " 0.99651981 0.99614957 0.99629767 0.99622362]\n",
      "\n",
      "Mean Validation Accuracy 99.65864982574149\n"
     ]
    }
   ],
   "source": [
    "cross_validation(svc, x_train,y_train, 10)"
   ]
  },
  {
   "cell_type": "markdown",
   "id": "c67f4cb6",
   "metadata": {
    "papermill": {
     "duration": 0.032825,
     "end_time": "2022-11-18T08:58:07.497279",
     "exception": false,
     "start_time": "2022-11-18T08:58:07.464454",
     "status": "completed"
    },
    "tags": []
   },
   "source": [
    "## 5. Gaussian Naive Bayes classifier"
   ]
  },
  {
   "cell_type": "code",
   "execution_count": 70,
   "id": "6a84283d",
   "metadata": {
    "execution": {
     "iopub.execute_input": "2022-11-18T08:58:07.566446Z",
     "iopub.status.busy": "2022-11-18T08:58:07.565686Z",
     "iopub.status.idle": "2022-11-18T08:58:07.745827Z",
     "shell.execute_reply": "2022-11-18T08:58:07.744461Z"
    },
    "papermill": {
     "duration": 0.218257,
     "end_time": "2022-11-18T08:58:07.749041",
     "exception": false,
     "start_time": "2022-11-18T08:58:07.530784",
     "status": "completed"
    },
    "tags": []
   },
   "outputs": [
    {
     "name": "stdout",
     "output_type": "stream",
     "text": [
      "0.9914605044363488 \n",
      "\n",
      "\n",
      "\n",
      "CPU times: user 134 ms, sys: 39 ms, total: 173 ms\n",
      "Wall time: 172 ms\n"
     ]
    }
   ],
   "source": [
    "%%time\n",
    "\n",
    "gnb = GaussianNB()\n",
    "\n",
    "gnb.fit(x_train, y_train) \n",
    "\n",
    "gnb_prediction = gnb.predict(x_test)\n",
    "print(accuracy_score(y_test, gnb_prediction), \"\\n\\n\\n\")"
   ]
  },
  {
   "cell_type": "code",
   "execution_count": 71,
   "id": "66bfe120",
   "metadata": {
    "execution": {
     "iopub.execute_input": "2022-11-18T08:58:07.819384Z",
     "iopub.status.busy": "2022-11-18T08:58:07.818131Z",
     "iopub.status.idle": "2022-11-18T08:58:08.944132Z",
     "shell.execute_reply": "2022-11-18T08:58:08.943023Z"
    },
    "papermill": {
     "duration": 1.163478,
     "end_time": "2022-11-18T08:58:08.946659",
     "exception": false,
     "start_time": "2022-11-18T08:58:07.783181",
     "status": "completed"
    },
    "tags": []
   },
   "outputs": [
    {
     "name": "stdout",
     "output_type": "stream",
     "text": [
      "Training Accuracy : 0.9916920889731363\n",
      "Testing Accuracy : 0.9914605044363488\n",
      "\n",
      "CLASSIFICATION REPORT\n",
      "\n",
      "              precision    recall  f1-score   support\n",
      "\n",
      "         Bad       0.99      1.00      0.99    240203\n",
      "        Good       0.99      0.97      0.98     74921\n",
      "\n",
      "    accuracy                           0.99    315124\n",
      "   macro avg       0.99      0.98      0.99    315124\n",
      "weighted avg       0.99      0.99      0.99    315124\n",
      "\n",
      "\n",
      "CONFUSION MATRIX\n"
     ]
    },
    {
     "data": {
      "text/plain": [
       "<AxesSubplot:>"
      ]
     },
     "execution_count": 71,
     "metadata": {},
     "output_type": "execute_result"
    },
    {
     "data": {
      "image/png": "[encoded data removed]",
      "text/plain": [
       "<Figure size 432x288 with 2 Axes>"
      ]
     },
     "metadata": {
      "needs_background": "light"
     },
     "output_type": "display_data"
    }
   ],
   "source": [
    "print('Training Accuracy :',gnb.score(x_train,y_train))\n",
    "print('Testing Accuracy :',gnb.score(x_test,y_test))\n",
    "\n",
    "con_mat = pd.DataFrame(confusion_matrix(gnb.predict(x_test), y_test),\n",
    "            columns = ['Predicted:Bad', 'Predicted:Good'],\n",
    "            index = ['Actual:Bad', 'Actual:Good'])\n",
    "\n",
    "\n",
    "print('\\nCLASSIFICATION REPORT\\n')\n",
    "print(classification_report(gnb.predict(x_test), y_test,\n",
    "                            target_names =['Bad','Good']))\n",
    "\n",
    "print('\\nCONFUSION MATRIX')\n",
    "plt.figure(figsize= (6,4))\n",
    "sns.heatmap(con_mat, annot = True,fmt='d',cmap=\"YlGnBu\")"
   ]
  },
  {
   "cell_type": "code",
   "execution_count": 72,
   "id": "d5194541",
   "metadata": {
    "execution": {
     "iopub.execute_input": "2022-11-18T08:58:09.015781Z",
     "iopub.status.busy": "2022-11-18T08:58:09.015386Z",
     "iopub.status.idle": "2022-11-18T08:58:09.134404Z",
     "shell.execute_reply": "2022-11-18T08:58:09.133290Z"
    },
    "papermill": {
     "duration": 0.157451,
     "end_time": "2022-11-18T08:58:09.137271",
     "exception": false,
     "start_time": "2022-11-18T08:58:08.979820",
     "status": "completed"
    },
    "tags": []
   },
   "outputs": [],
   "source": [
    "model_accuracy['Gaussian Naive Bayes'] = gnb.score(x_test,y_test)"
   ]
  },
  {
   "cell_type": "code",
   "execution_count": 73,
   "id": "2397cbbd",
   "metadata": {
    "execution": {
     "iopub.execute_input": "2022-11-18T08:58:09.209432Z",
     "iopub.status.busy": "2022-11-18T08:58:09.208329Z",
     "iopub.status.idle": "2022-11-18T08:58:10.414972Z",
     "shell.execute_reply": "2022-11-18T08:58:10.412693Z"
    },
    "papermill": {
     "duration": 1.247046,
     "end_time": "2022-11-18T08:58:10.419094",
     "exception": false,
     "start_time": "2022-11-18T08:58:09.172048",
     "status": "completed"
    },
    "tags": []
   },
   "outputs": [
    {
     "name": "stdout",
     "output_type": "stream",
     "text": [
      "Training Accuracy scores [99.15752061 99.18631629 99.17315935 99.17562754 99.16081845 99.16657754\n",
      " 99.17233663 99.17480481 99.15259118 99.14765482]\n",
      "\n",
      "Mean Training Accuracy 99.16674072073923\n",
      "\n",
      "Validation Accuracy scores [0.9920776  0.99037465 0.99192892 0.99192892 0.9922251  0.99215106\n",
      " 0.99118845 0.9923732  0.99104036 0.99141059]\n",
      "\n",
      "Mean Validation Accuracy 99.16698818789824\n"
     ]
    }
   ],
   "source": [
    "cross_validation(gnb, x_train,y_train, 10)"
   ]
  },
  {
   "cell_type": "markdown",
   "id": "77a32183",
   "metadata": {
    "papermill": {
     "duration": 0.060177,
     "end_time": "2022-11-18T08:58:10.533848",
     "exception": false,
     "start_time": "2022-11-18T08:58:10.473671",
     "status": "completed"
    },
    "tags": []
   },
   "source": [
    "# ***Model Compression***"
   ]
  },
  {
   "cell_type": "code",
   "execution_count": 74,
   "id": "5fcd4181",
   "metadata": {
    "execution": {
     "iopub.execute_input": "2022-11-18T08:58:10.632049Z",
     "iopub.status.busy": "2022-11-18T08:58:10.631481Z",
     "iopub.status.idle": "2022-11-18T08:58:10.642486Z",
     "shell.execute_reply": "2022-11-18T08:58:10.640418Z"
    },
    "papermill": {
     "duration": 0.077035,
     "end_time": "2022-11-18T08:58:10.646805",
     "exception": false,
     "start_time": "2022-11-18T08:58:10.569770",
     "status": "completed"
    },
    "tags": []
   },
   "outputs": [
    {
     "data": {
      "text/plain": [
       "{'Logistic Regression': 0.9957730924969218,\n",
       " 'Decision Tree': 0.995293916045747,\n",
       " 'Random Forest': 0.997274088930072,\n",
       " 'Support Vector Classifier': 0.9966172046559449,\n",
       " 'Gaussian Naive Bayes': 0.9914605044363488}"
      ]
     },
     "execution_count": 74,
     "metadata": {},
     "output_type": "execute_result"
    }
   ],
   "source": [
    "model_accuracy"
   ]
  },
  {
   "cell_type": "code",
   "execution_count": 75,
   "id": "4b605868",
   "metadata": {
    "execution": {
     "iopub.execute_input": "2022-11-18T08:58:10.763708Z",
     "iopub.status.busy": "2022-11-18T08:58:10.763078Z",
     "iopub.status.idle": "2022-11-18T08:58:11.183498Z",
     "shell.execute_reply": "2022-11-18T08:58:11.182113Z"
    },
    "papermill": {
     "duration": 0.476927,
     "end_time": "2022-11-18T08:58:11.187493",
     "exception": false,
     "start_time": "2022-11-18T08:58:10.710566",
     "status": "completed"
    },
    "tags": []
   },
   "outputs": [
    {
     "data": {
      "image/png": "[encoded data removed]",
      "text/plain": [
       "<Figure size 1152x648 with 1 Axes>"
      ]
     },
     "metadata": {
      "needs_background": "light"
     },
     "output_type": "display_data"
    }
   ],
   "source": [
    "models = list(model_accuracy.keys())\n",
    "acc_score = list(model_accuracy.values())\n",
    "\n",
    "#fig = plt.figure(figsize = (10, 15))\n",
    "\n",
    "# plt.bar(models,acc_score, width = 0.4)\n",
    "# plt.title(\"Models compression\")\n",
    "# plt.xlabel(\"Models\")\n",
    "# plt.ylabel(\"Accuracy score\")\n",
    "# plt.show()\n",
    "\n",
    "\n",
    "# Figure Size\n",
    "fig, ax = plt.subplots(figsize =(16, 9))\n",
    " \n",
    "# Horizontal Bar Plot\n",
    "ax.barh(models, acc_score)\n",
    " \n",
    "# Remove axes splines\n",
    "for s in ['top', 'bottom', 'left', 'right']:\n",
    "    ax.spines[s].set_visible(False)\n",
    "\n",
    "# Remove x, y Ticks\n",
    "ax.xaxis.set_ticks_position('none')\n",
    "ax.yaxis.set_ticks_position('none')\n",
    " \n",
    "# Add padding between axes and labels\n",
    "ax.xaxis.set_tick_params(pad = 5)\n",
    "ax.yaxis.set_tick_params(pad = 10)\n",
    " \n",
    "# Add x, y gridlines\n",
    "ax.grid(b = True, color ='grey',\n",
    "        linestyle ='-.', linewidth = 0.5,\n",
    "        alpha = 0.2)\n",
    " \n",
    "# Show top values\n",
    "ax.invert_yaxis()\n",
    " \n",
    "# Add annotation to bars\n",
    "for i in ax.patches:\n",
    "    plt.text(i.get_width()+0.2, i.get_y()+0.5,\n",
    "             str(round((i.get_width()), 2)),\n",
    "             fontsize = 10, fontweight ='bold',\n",
    "             color ='grey')\n",
    "\n",
    "# Add Plot Title\n",
    "ax.set_title('Model Compression\\n\\n',loc ='left', )\n",
    " \n",
    "# Show Plot\n",
    "plt.show()\n"
   ]
  },
  {
   "cell_type": "markdown",
   "id": "97229f8c",
   "metadata": {
    "papermill": {
     "duration": 0.049226,
     "end_time": "2022-11-18T08:58:11.289672",
     "exception": false,
     "start_time": "2022-11-18T08:58:11.240446",
     "status": "completed"
    },
    "tags": []
   },
   "source": [
    "# ***Predicton***"
   ]
  },
  {
   "cell_type": "code",
   "execution_count": 76,
   "id": "09633449",
   "metadata": {
    "execution": {
     "iopub.execute_input": "2022-11-18T08:58:11.391482Z",
     "iopub.status.busy": "2022-11-18T08:58:11.390851Z",
     "iopub.status.idle": "2022-11-18T08:58:11.403037Z",
     "shell.execute_reply": "2022-11-18T08:58:11.402080Z"
    },
    "papermill": {
     "duration": 0.067366,
     "end_time": "2022-11-18T08:58:11.405936",
     "exception": false,
     "start_time": "2022-11-18T08:58:11.338570",
     "status": "completed"
    },
    "tags": []
   },
   "outputs": [],
   "source": [
    "def pred(link):\n",
    "    loaded_model = pickle.load(open('./Model_det_LR.pkl', 'rb'))\n",
    "    \n",
    "    sample =[]\n",
    "    sample.append(link)\n",
    "    df = pd.DataFrame(sample, columns=['url'])\n",
    "    len_preprocess(df)\n",
    "    df = df.drop(\"tld\",1)\n",
    "    count_preprocess(df)\n",
    "    ip_process(df)\n",
    "    df = df[['hostname_length',\n",
    "       'path_length', 'fd_length', 'tld_length', 'count-', 'count@', 'count?',\n",
    "       'count%', 'count.', 'count=', 'count-http','count-https', 'count-www', 'count-digits',\n",
    "       'count-letters', 'count_dir', 'use_of_ip']]\n",
    "    result = loaded_model.predict(df)\n",
    "    if result[0] == 0:\n",
    "        print(\"benign\")\n",
    "    else:\n",
    "        print(\"Phishing\")\n"
   ]
  },
  {
   "cell_type": "code",
   "execution_count": 77,
   "id": "2236a09e",
   "metadata": {
    "execution": {
     "iopub.execute_input": "2022-11-18T08:58:11.507767Z",
     "iopub.status.busy": "2022-11-18T08:58:11.507319Z",
     "iopub.status.idle": "2022-11-18T08:58:11.539043Z",
     "shell.execute_reply": "2022-11-18T08:58:11.537157Z"
    },
    "papermill": {
     "duration": 0.086816,
     "end_time": "2022-11-18T08:58:11.542957",
     "exception": false,
     "start_time": "2022-11-18T08:58:11.456141",
     "status": "completed"
    },
    "tags": []
   },
   "outputs": [
    {
     "name": "stdout",
     "output_type": "stream",
     "text": [
      "benign\n"
     ]
    }
   ],
   "source": [
    "# link = input(\"Enter your link:\\t\")\n",
    "\n",
    "link = \"www.youtube.com\"\n",
    "pred(link)"
   ]
  },
  {
   "cell_type": "code",
   "execution_count": 78,
   "id": "929e5c12",
   "metadata": {
    "execution": {
     "iopub.execute_input": "2022-11-18T08:58:11.649396Z",
     "iopub.status.busy": "2022-11-18T08:58:11.648879Z",
     "iopub.status.idle": "2022-11-18T08:58:11.679084Z",
     "shell.execute_reply": "2022-11-18T08:58:11.678072Z"
    },
    "papermill": {
     "duration": 0.085394,
     "end_time": "2022-11-18T08:58:11.682012",
     "exception": false,
     "start_time": "2022-11-18T08:58:11.596618",
     "status": "completed"
    },
    "tags": []
   },
   "outputs": [
    {
     "name": "stdout",
     "output_type": "stream",
     "text": [
      "Phishing\n"
     ]
    }
   ],
   "source": [
    "link = \"svision-online.de/mgfi/administrator/components/com_babackup/classes/fx29id1.txt\"\n",
    "pred(link)"
   ]
  },
  {
   "cell_type": "code",
   "execution_count": null,
   "id": "c4486ff3",
   "metadata": {
    "papermill": {
     "duration": 0.050167,
     "end_time": "2022-11-18T08:58:11.783335",
     "exception": false,
     "start_time": "2022-11-18T08:58:11.733168",
     "status": "completed"
    },
    "tags": []
   },
   "outputs": [],
   "source": []
  },
  {
   "cell_type": "code",
   "execution_count": null,
   "id": "75205967",
   "metadata": {
    "papermill": {
     "duration": 0.049929,
     "end_time": "2022-11-18T08:58:11.883518",
     "exception": false,
     "start_time": "2022-11-18T08:58:11.833589",
     "status": "completed"
    },
    "tags": []
   },
   "outputs": [],
   "source": []
  },
  {
   "cell_type": "code",
   "execution_count": null,
   "id": "c734bf29",
   "metadata": {
    "papermill": {
     "duration": 0.049429,
     "end_time": "2022-11-18T08:58:11.984571",
     "exception": false,
     "start_time": "2022-11-18T08:58:11.935142",
     "status": "completed"
    },
    "tags": []
   },
   "outputs": [],
   "source": []
  }
 ],
 "metadata": {
  "kernelspec": {
   "display_name": "Python 3",
   "language": "python",
   "name": "python3"
  },
  "language_info": {
   "codemirror_mode": {
    "name": "ipython",
    "version": 3
   },
   "file_extension": ".py",
   "mimetype": "text/x-python",
   "name": "python",
   "nbconvert_exporter": "python",
   "pygments_lexer": "ipython3",
   "version": "3.7.12"
  },
  "papermill": {
   "default_parameters": {},
   "duration": 3125.731752,
   "end_time": "2022-11-18T08:58:13.448761",
   "environment_variables": {},
   "exception": null,
   "input_path": "__notebook__.ipynb",
   "output_path": "__notebook__.ipynb",
   "parameters": {},
   "start_time": "2022-11-18T08:06:07.717009",
   "version": "2.3.4"
  }
 },
 "nbformat": 4,
 "nbformat_minor": 5
}
